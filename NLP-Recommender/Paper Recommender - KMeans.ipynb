{
 "cells": [
  {
   "cell_type": "markdown",
   "id": "695355ed",
   "metadata": {},
   "source": [
    "# Load Dataset"
   ]
  },
  {
   "cell_type": "code",
   "execution_count": 1,
   "id": "0fef38dc",
   "metadata": {},
   "outputs": [],
   "source": [
    "import pandas as pd"
   ]
  },
  {
   "cell_type": "code",
   "execution_count": 2,
   "id": "2cd7464a",
   "metadata": {
    "scrolled": true
   },
   "outputs": [
    {
     "name": "stdout",
     "output_type": "stream",
     "text": [
      "<class 'pandas.core.frame.DataFrame'>\n",
      "RangeIndex: 776 entries, 0 to 775\n",
      "Data columns (total 4 columns):\n",
      " #   Column    Non-Null Count  Dtype \n",
      "---  ------    --------------  ----- \n",
      " 0   Title     776 non-null    object\n",
      " 1   Writer    776 non-null    object\n",
      " 2   KeyWord   575 non-null    object\n",
      " 3   Abstract  234 non-null    object\n",
      "dtypes: object(4)\n",
      "memory usage: 24.4+ KB\n"
     ]
    }
   ],
   "source": [
    "df = pd.read_xml('./JASSS_DATA/jasss/jass_paper_final.xml')\n",
    "df.info()"
   ]
  },
  {
   "cell_type": "code",
   "execution_count": 3,
   "id": "a28a96d7",
   "metadata": {
    "scrolled": false
   },
   "outputs": [
    {
     "data": {
      "text/html": [
       "<div>\n",
       "<style scoped>\n",
       "    .dataframe tbody tr th:only-of-type {\n",
       "        vertical-align: middle;\n",
       "    }\n",
       "\n",
       "    .dataframe tbody tr th {\n",
       "        vertical-align: top;\n",
       "    }\n",
       "\n",
       "    .dataframe thead th {\n",
       "        text-align: right;\n",
       "    }\n",
       "</style>\n",
       "<table border=\"1\" class=\"dataframe\">\n",
       "  <thead>\n",
       "    <tr style=\"text-align: right;\">\n",
       "      <th></th>\n",
       "      <th>Title</th>\n",
       "      <th>Writer</th>\n",
       "      <th>KeyWord</th>\n",
       "      <th>Abstract</th>\n",
       "    </tr>\n",
       "  </thead>\n",
       "  <tbody>\n",
       "    <tr>\n",
       "      <th>0</th>\n",
       "      <td>Agent-Based Modelling of Future Dairy and Plan...</td>\n",
       "      <td>Matthew Gibson, Joana Portugal Pereira, Raphae...</td>\n",
       "      <td>Plant-Based Milk, Dairy Reduction, Sustainable...</td>\n",
       "      <td>A reduction in the production and consumption ...</td>\n",
       "    </tr>\n",
       "    <tr>\n",
       "      <th>1</th>\n",
       "      <td>ReMoTe-S. Residential Mobility of Tenants in S...</td>\n",
       "      <td>Anna Pagani, Francesco Ballestrazzi, Emanuele ...</td>\n",
       "      <td>Household Mobility, Household Relocation, Hous...</td>\n",
       "      <td>Sustainable housing is a key priority for Swit...</td>\n",
       "    </tr>\n",
       "    <tr>\n",
       "      <th>2</th>\n",
       "      <td>Sharing Risk Under Heterogeneity: Exploring Pa...</td>\n",
       "      <td>Eva Vriens and Vincent Buskens</td>\n",
       "      <td>Risk-Sharing, Risk Aversion, Solidarity, Uncer...</td>\n",
       "      <td>Motivated by the emergence of new Peer-to-Peer...</td>\n",
       "    </tr>\n",
       "    <tr>\n",
       "      <th>3</th>\n",
       "      <td>An Agent-Based Model of Motor Insurance Custom...</td>\n",
       "      <td>Rei England, Iqbal Owadally and Douglas Wright</td>\n",
       "      <td>Insurance, Word-Of-Mouth, Agent-Based-Model, N...</td>\n",
       "      <td>Attracting and retaining loyal customers is a ...</td>\n",
       "    </tr>\n",
       "    <tr>\n",
       "      <th>4</th>\n",
       "      <td>Generation of Synthetic Populations in Social ...</td>\n",
       "      <td>Kevin Chapuis, Patrick Taillandier and Alexis ...</td>\n",
       "      <td>Synthetic Population, Agent-Based Simulation M...</td>\n",
       "      <td>With the aim of building realistic model of so...</td>\n",
       "    </tr>\n",
       "  </tbody>\n",
       "</table>\n",
       "</div>"
      ],
      "text/plain": [
       "                                               Title  \\\n",
       "0  Agent-Based Modelling of Future Dairy and Plan...   \n",
       "1  ReMoTe-S. Residential Mobility of Tenants in S...   \n",
       "2  Sharing Risk Under Heterogeneity: Exploring Pa...   \n",
       "3  An Agent-Based Model of Motor Insurance Custom...   \n",
       "4  Generation of Synthetic Populations in Social ...   \n",
       "\n",
       "                                              Writer  \\\n",
       "0  Matthew Gibson, Joana Portugal Pereira, Raphae...   \n",
       "1  Anna Pagani, Francesco Ballestrazzi, Emanuele ...   \n",
       "2                     Eva Vriens and Vincent Buskens   \n",
       "3     Rei England, Iqbal Owadally and Douglas Wright   \n",
       "4  Kevin Chapuis, Patrick Taillandier and Alexis ...   \n",
       "\n",
       "                                             KeyWord  \\\n",
       "0  Plant-Based Milk, Dairy Reduction, Sustainable...   \n",
       "1  Household Mobility, Household Relocation, Hous...   \n",
       "2  Risk-Sharing, Risk Aversion, Solidarity, Uncer...   \n",
       "3  Insurance, Word-Of-Mouth, Agent-Based-Model, N...   \n",
       "4  Synthetic Population, Agent-Based Simulation M...   \n",
       "\n",
       "                                            Abstract  \n",
       "0  A reduction in the production and consumption ...  \n",
       "1  Sustainable housing is a key priority for Swit...  \n",
       "2  Motivated by the emergence of new Peer-to-Peer...  \n",
       "3  Attracting and retaining loyal customers is a ...  \n",
       "4  With the aim of building realistic model of so...  "
      ]
     },
     "execution_count": 3,
     "metadata": {},
     "output_type": "execute_result"
    }
   ],
   "source": [
    "df.head()"
   ]
  },
  {
   "cell_type": "code",
   "execution_count": 4,
   "id": "f02c7635",
   "metadata": {},
   "outputs": [],
   "source": [
    "df = df[['Title', 'Writer', 'KeyWord', 'Abstract']]\n",
    "df.fillna(\"\",inplace=True)"
   ]
  },
  {
   "cell_type": "code",
   "execution_count": 5,
   "id": "59565caa",
   "metadata": {
    "scrolled": true
   },
   "outputs": [
    {
     "name": "stdout",
     "output_type": "stream",
     "text": [
      "<class 'pandas.core.frame.DataFrame'>\n",
      "Int64Index: 776 entries, 0 to 775\n",
      "Data columns (total 2 columns):\n",
      " #   Column       Non-Null Count  Dtype \n",
      "---  ------       --------------  ----- \n",
      " 0   Title        776 non-null    object\n",
      " 1   Description  776 non-null    object\n",
      "dtypes: object(2)\n",
      "memory usage: 18.2+ KB\n"
     ]
    }
   ],
   "source": [
    "df['Description'] = df['Abstract'] + ' ' + df['KeyWord'] + ' ' + df['Title']\n",
    "df = df[['Title','Description']]\n",
    "df.dropna(inplace=True)\n",
    "df.info()"
   ]
  },
  {
   "cell_type": "code",
   "execution_count": 6,
   "id": "2a31860a",
   "metadata": {
    "scrolled": false
   },
   "outputs": [
    {
     "data": {
      "text/html": [
       "<div>\n",
       "<style scoped>\n",
       "    .dataframe tbody tr th:only-of-type {\n",
       "        vertical-align: middle;\n",
       "    }\n",
       "\n",
       "    .dataframe tbody tr th {\n",
       "        vertical-align: top;\n",
       "    }\n",
       "\n",
       "    .dataframe thead th {\n",
       "        text-align: right;\n",
       "    }\n",
       "</style>\n",
       "<table border=\"1\" class=\"dataframe\">\n",
       "  <thead>\n",
       "    <tr style=\"text-align: right;\">\n",
       "      <th></th>\n",
       "      <th>Title</th>\n",
       "      <th>Description</th>\n",
       "    </tr>\n",
       "  </thead>\n",
       "  <tbody>\n",
       "    <tr>\n",
       "      <th>0</th>\n",
       "      <td>Agent-Based Modelling of Future Dairy and Plan...</td>\n",
       "      <td>A reduction in the production and consumption ...</td>\n",
       "    </tr>\n",
       "    <tr>\n",
       "      <th>1</th>\n",
       "      <td>ReMoTe-S. Residential Mobility of Tenants in S...</td>\n",
       "      <td>Sustainable housing is a key priority for Swit...</td>\n",
       "    </tr>\n",
       "    <tr>\n",
       "      <th>2</th>\n",
       "      <td>Sharing Risk Under Heterogeneity: Exploring Pa...</td>\n",
       "      <td>Motivated by the emergence of new Peer-to-Peer...</td>\n",
       "    </tr>\n",
       "    <tr>\n",
       "      <th>3</th>\n",
       "      <td>An Agent-Based Model of Motor Insurance Custom...</td>\n",
       "      <td>Attracting and retaining loyal customers is a ...</td>\n",
       "    </tr>\n",
       "    <tr>\n",
       "      <th>4</th>\n",
       "      <td>Generation of Synthetic Populations in Social ...</td>\n",
       "      <td>With the aim of building realistic model of so...</td>\n",
       "    </tr>\n",
       "  </tbody>\n",
       "</table>\n",
       "</div>"
      ],
      "text/plain": [
       "                                               Title  \\\n",
       "0  Agent-Based Modelling of Future Dairy and Plan...   \n",
       "1  ReMoTe-S. Residential Mobility of Tenants in S...   \n",
       "2  Sharing Risk Under Heterogeneity: Exploring Pa...   \n",
       "3  An Agent-Based Model of Motor Insurance Custom...   \n",
       "4  Generation of Synthetic Populations in Social ...   \n",
       "\n",
       "                                         Description  \n",
       "0  A reduction in the production and consumption ...  \n",
       "1  Sustainable housing is a key priority for Swit...  \n",
       "2  Motivated by the emergence of new Peer-to-Peer...  \n",
       "3  Attracting and retaining loyal customers is a ...  \n",
       "4  With the aim of building realistic model of so...  "
      ]
     },
     "execution_count": 6,
     "metadata": {},
     "output_type": "execute_result"
    }
   ],
   "source": [
    "df.head()"
   ]
  },
  {
   "cell_type": "markdown",
   "id": "e75363bb",
   "metadata": {},
   "source": [
    "# Cluster Similar Papers"
   ]
  },
  {
   "cell_type": "markdown",
   "id": "dfb4cb7d",
   "metadata": {},
   "source": [
    "How to cluster text documents:\n",
    "- Text pre-processing\n",
    "- Feature Engineering\n",
    "- Clustering Using KMeans\n",
    "- Find Optimal Value for K\n",
    "- Prepare Paper Clusters"
   ]
  },
  {
   "cell_type": "markdown",
   "id": "2e99186d",
   "metadata": {},
   "source": [
    "## Text pre-processing"
   ]
  },
  {
   "cell_type": "code",
   "execution_count": 7,
   "id": "7e78a115",
   "metadata": {},
   "outputs": [],
   "source": [
    "import nltk\n",
    "import re\n",
    "import numpy as np\n",
    "from nltk.stem.porter import PorterStemmer\n",
    "from nltk.stem import WordNetLemmatizer"
   ]
  },
  {
   "cell_type": "code",
   "execution_count": 8,
   "id": "75be5d6b",
   "metadata": {},
   "outputs": [],
   "source": [
    "stop_words = nltk.corpus.stopwords.words('english')\n",
    "stop_words.extend(['also','agent','agentbased model','well'])"
   ]
  },
  {
   "cell_type": "code",
   "execution_count": 9,
   "id": "8082ac6c",
   "metadata": {},
   "outputs": [],
   "source": [
    "def normalize_document(doc):\n",
    "    doc = re.sub(r'[^a-zA-Z0-9\\s]', '', doc, re.I|re.A)\n",
    "    doc = doc.lower()\n",
    "    doc = doc.strip()\n",
    "    tokens = nltk.word_tokenize(doc)\n",
    "    tokens_tags = nltk.pos_tag(tokens)\n",
    "    wordnet_lemmatizer = WordNetLemmatizer()\n",
    "    lemmatized_tokens = []\n",
    "    for token, tag in tokens_tags:\n",
    "        if tag in ['RBS','RBR', 'RB']:\n",
    "            lemmatized_tokens.append(wordnet_lemmatizer.lemmatize(token, pos='r'))\n",
    "        elif tag in ['JJ','JJS','JJR']:\n",
    "            lemmatized_tokens.append(wordnet_lemmatizer.lemmatize(token, pos='a'))\n",
    "        elif tag in ['VB','VBP','VBZ','VBD','VBN','VBG']:\n",
    "            lemmatized_tokens.append(wordnet_lemmatizer.lemmatize(token, pos='v'))\n",
    "        elif tag in ['NN','NNS','NNP','NNPS']:\n",
    "            lemmatized_tokens.append(wordnet_lemmatizer.lemmatize(token, pos='n'))\n",
    "        else:\n",
    "            lemmatized_tokens.append(wordnet_lemmatizer.lemmatize(token))\n",
    "    filtered_tokens = [token for token in lemmatized_tokens if token not in stop_words]\n",
    "    doc = ' '.join(filtered_tokens)\n",
    "    return doc"
   ]
  },
  {
   "cell_type": "code",
   "execution_count": 10,
   "id": "9a95b223",
   "metadata": {},
   "outputs": [],
   "source": [
    "normalize_corpus = np.vectorize(normalize_document)\n",
    "norm_corpus = normalize_corpus(df['Description'].values)"
   ]
  },
  {
   "cell_type": "code",
   "execution_count": 11,
   "id": "183e3157",
   "metadata": {},
   "outputs": [
    {
     "data": {
      "text/plain": [
       "776"
      ]
     },
     "execution_count": 11,
     "metadata": {},
     "output_type": "execute_result"
    }
   ],
   "source": [
    "len(norm_corpus)"
   ]
  },
  {
   "cell_type": "code",
   "execution_count": 12,
   "id": "852c2b2a",
   "metadata": {},
   "outputs": [
    {
     "data": {
      "text/plain": [
       "'reduction production consumption meat dairy across much world critical climate change mitigation alleviation ecological stress improved health update agentbased model abm historic uk milk consumption apply scenario dairy reduction adoption plantbased milk pbm 2050 update model comprise cognitive function perceive physical health environmental characteristic milk choice modify habit social influence use european social survey 2018 british social attitude 2008 survey data empirically inform model take backcasting approach calibrate parameter publish uk dairy reduction target 2030 2050 test different price relationship characterisation environmental concern may affect simulated milk consumption 2020 2050 scenario core target 20 less dairy 2030 35 2050 largely produce plausible consumption trajectory however current pricing dairy pbm simulate consumption mostly unable deliver desire core target improved markedly dairy price set organic level influence change environmental concern milk choice result high level dairy milk reduction model transient intense shock public concern consumption pattern fundamentally change however small incremental permanent change concern produce structural change consumption pattern dairy fall plantbased alternative around 2030 study first apply abm context scenario dairy reduction pbm adoption service uk climaterelated consumption target serve valuable bottomup alternative evidence feasibility dietary shift target pose policy implication address impediment behavioural change plantbased milk dairy reduction sustainable diet agentbased model calibration scenario analysis agentbased modelling future dairy plantbased milk consumption uk climate target'"
      ]
     },
     "execution_count": 12,
     "metadata": {},
     "output_type": "execute_result"
    }
   ],
   "source": [
    "norm_corpus[0]"
   ]
  },
  {
   "cell_type": "code",
   "execution_count": 13,
   "id": "fe54691b",
   "metadata": {},
   "outputs": [
    {
     "data": {
      "text/plain": [
       "'A reduction in the production and consumption of meat and dairy across much of the world is critical for climate change mitigation, the alleviation of ecological stress, and improved health. We update an agent-based model (ABM) of historic UK milk consumption and apply it to scenarios of dairy reduction and adoption of plant-based milk (PBM) out to 2050. The updated model is comprised of a cognitive function, where agents perceive the physical, health and environmental characteristics of milk choice, which is modified by habit and social influence. We use European Social Survey 2018 and British Social Attitudes 2008 survey data to empirically inform the model. Taking a backcasting approach, we calibrate parameters against published UK dairy reduction targets (2030 and 2050), and test how different price relationships, and characterisations of environmental concern, may affect simulated milk consumption from 2020 to 2050. Scenarios for core targets (20% less dairy by 2030 and 35% by 2050) largely produced plausible consumption trajectories. However, at current pricing of dairy and PBM, simulated consumption was mostly unable to deliver on desired core targets, but this improved markedly with dairy prices set to organic levels. The influence of changing environmental concern on milk choice resulted in higher levels of dairy milk reduction. When modelled as transient, intense shocks to public concern, consumption patterns did not fundamentally change. However, small, incremental but permanent changes to concern did produce structural changes to consumption patterns, with dairy falling below plant-based alternatives at around 2030. This study is the first to apply an ABM  in the context of scenarios for dairy reduction and PBM adoption in service to UK climate-related consumption targets. It can serve as valuable bottom-up, alternative, evidence on the feasibility of dietary shift targets, and poses policy implications for how to address impediments to behavioural change. Plant-Based Milk, Dairy Reduction, Sustainable Diets, Agent-Based Modelling, Calibration, Scenario Analysis Agent-Based Modelling of Future Dairy and Plant-Based Milk Consumption for UK Climate Targets'"
      ]
     },
     "execution_count": 13,
     "metadata": {},
     "output_type": "execute_result"
    }
   ],
   "source": [
    "df['Description'].values[0]"
   ]
  },
  {
   "cell_type": "markdown",
   "id": "8ca46822",
   "metadata": {},
   "source": [
    "## Token Vectorize"
   ]
  },
  {
   "cell_type": "code",
   "execution_count": 14,
   "id": "0cf4e2ff",
   "metadata": {},
   "outputs": [],
   "source": [
    "from sklearn.feature_extraction.text import CountVectorizer"
   ]
  },
  {
   "cell_type": "code",
   "execution_count": 15,
   "id": "9afd2bd2",
   "metadata": {},
   "outputs": [
    {
     "data": {
      "text/plain": [
       "183"
      ]
     },
     "execution_count": 15,
     "metadata": {},
     "output_type": "execute_result"
    }
   ],
   "source": [
    "len(stop_words)"
   ]
  },
  {
   "cell_type": "code",
   "execution_count": 16,
   "id": "821305e1",
   "metadata": {},
   "outputs": [
    {
     "name": "stderr",
     "output_type": "stream",
     "text": [
      "/Users/arieskoo/opt/anaconda3/envs/nlp/lib/python3.9/site-packages/sklearn/feature_extraction/text.py:396: UserWarning: Your stop_words may be inconsistent with your preprocessing. Tokenizing the stop words generated tokens ['agentbased', 'model'] not in stop_words.\n",
      "  warnings.warn(\n"
     ]
    },
    {
     "data": {
      "text/plain": [
       "(776, 23)"
      ]
     },
     "execution_count": 16,
     "metadata": {},
     "output_type": "execute_result"
    }
   ],
   "source": [
    "# Token Vectorize\n",
    "cv = CountVectorizer(ngram_range=(1,2), min_df=80, max_df=0.9, stop_words=stop_words)\n",
    "cv_matrix = cv.fit_transform(norm_corpus)\n",
    "cv_matrix.shape"
   ]
  },
  {
   "cell_type": "markdown",
   "id": "dab479a8",
   "metadata": {},
   "source": [
    "## Extract TF-IDF Feature"
   ]
  },
  {
   "cell_type": "code",
   "execution_count": 17,
   "id": "6574af34",
   "metadata": {},
   "outputs": [],
   "source": [
    "from sklearn.feature_extraction.text import TfidfTransformer"
   ]
  },
  {
   "cell_type": "code",
   "execution_count": 18,
   "id": "5f6c82a3",
   "metadata": {},
   "outputs": [],
   "source": [
    "transformer = TfidfTransformer()\n",
    "tfidf = transformer.fit_transform(cv_matrix)\n",
    "tfidf_matrix = tfidf.toarray()"
   ]
  },
  {
   "cell_type": "markdown",
   "id": "d058f242",
   "metadata": {},
   "source": [
    "## TSNE Dimension Reduction for Plotting"
   ]
  },
  {
   "cell_type": "code",
   "execution_count": 19,
   "id": "f7628d08",
   "metadata": {},
   "outputs": [],
   "source": [
    "from sklearn import manifold"
   ]
  },
  {
   "cell_type": "code",
   "execution_count": 20,
   "id": "c0dd4ffa",
   "metadata": {},
   "outputs": [
    {
     "name": "stderr",
     "output_type": "stream",
     "text": [
      "/Users/arieskoo/opt/anaconda3/envs/nlp/lib/python3.9/site-packages/sklearn/manifold/_t_sne.py:982: FutureWarning: The PCA initialization in TSNE will change to have the standard deviation of PC1 equal to 1e-4 in 1.2. This will ensure better convergence.\n",
      "  warnings.warn(\n"
     ]
    }
   ],
   "source": [
    "tsne = manifold.TSNE(n_components=2, perplexity=20.0, learning_rate=200.0, n_iter=1000, init='pca', random_state=1)\n",
    "tsne_tfidf_matrix = tsne.fit_transform(tfidf_matrix)"
   ]
  },
  {
   "cell_type": "code",
   "execution_count": 21,
   "id": "25d73783",
   "metadata": {},
   "outputs": [
    {
     "data": {
      "text/plain": [
       "[-3.2407339, 40.77883, 3.8148983]"
      ]
     },
     "execution_count": 21,
     "metadata": {},
     "output_type": "execute_result"
    }
   ],
   "source": [
    "[row[0] for row in tsne_tfidf_matrix[0:3]]"
   ]
  },
  {
   "cell_type": "markdown",
   "id": "3b8711bd",
   "metadata": {},
   "source": [
    "## Cluster Papers using K-Means"
   ]
  },
  {
   "cell_type": "code",
   "execution_count": 22,
   "id": "1a0f8940",
   "metadata": {},
   "outputs": [],
   "source": [
    "from sklearn.cluster import KMeans"
   ]
  },
  {
   "cell_type": "code",
   "execution_count": 23,
   "id": "be9e1385",
   "metadata": {},
   "outputs": [],
   "source": [
    "MIN_CLUSTERS = 15\n",
    "MAX_CLUSTERS = 40"
   ]
  },
  {
   "cell_type": "markdown",
   "id": "6d5db764",
   "metadata": {},
   "source": [
    "## Determine the number of clusters"
   ]
  },
  {
   "cell_type": "markdown",
   "id": "5959f508",
   "metadata": {},
   "source": [
    "### Method 1: Cross Validation + Silehouette Coefficient"
   ]
  },
  {
   "cell_type": "code",
   "execution_count": 24,
   "id": "da207eec",
   "metadata": {},
   "outputs": [],
   "source": [
    "from sklearn.model_selection import KFold\n",
    "from sklearn import metrics\n",
    "import matplotlib.pyplot as plt"
   ]
  },
  {
   "cell_type": "code",
   "execution_count": 25,
   "id": "bc6f0902",
   "metadata": {},
   "outputs": [],
   "source": [
    "def cross_validation_k(data, num_clusters, folds=5):\n",
    "    km = KMeans(n_clusters=num_clusters, max_iter=10000, n_init=50, random_state=10)\n",
    "    kf = KFold(n_splits=folds)\n",
    "    train_sil = 0\n",
    "    test_sil = 0\n",
    "    for train, test in kf.split(data):\n",
    "        test_data = data[test,:]\n",
    "        train_data = data[train,:]\n",
    "        train_model = km.fit(train_data)\n",
    "        train_labels = train_model.labels_\n",
    "        test_labels = train_model.predict(test_data)\n",
    "        \n",
    "        test_silhouette = metrics.silhouette_score(test_data, test_labels, metric='euclidean')\n",
    "        train_silhouette = metrics.silhouette_score(train_data, train_labels, metric='euclidean')\n",
    "        \n",
    "        train_sil += train_silhouette\n",
    "        test_sil += test_silhouette\n",
    "\n",
    "    train_mean_sil = train_sil/folds\n",
    "    test_mean_sil = test_sil/folds\n",
    "    print(f'Train mean silhouette: {train_mean_sil}')\n",
    "    print(f'Testing mean silhouette: {test_mean_sil}')\n",
    "    print()\n",
    "    return train_mean_sil, test_mean_sil"
   ]
  },
  {
   "cell_type": "code",
   "execution_count": 26,
   "id": "5c1884e1",
   "metadata": {},
   "outputs": [
    {
     "name": "stdout",
     "output_type": "stream",
     "text": [
      "Cluster Number is: 15\n",
      "Train mean silhouette: 0.5065707623958587\n",
      "Testing mean silhouette: 0.49105684757232665\n",
      "\n",
      "Cluster Number is: 16\n",
      "Train mean silhouette: 0.5137243092060089\n",
      "Testing mean silhouette: 0.4936575055122375\n",
      "\n",
      "Cluster Number is: 17\n",
      "Train mean silhouette: 0.5136872172355652\n",
      "Testing mean silhouette: 0.46861971020698545\n",
      "\n",
      "Cluster Number is: 18\n",
      "Train mean silhouette: 0.5125334978103637\n",
      "Testing mean silhouette: 0.4715671598911285\n",
      "\n",
      "Cluster Number is: 19\n",
      "Train mean silhouette: 0.5170225262641907\n",
      "Testing mean silhouette: 0.46748470067977904\n",
      "\n",
      "Cluster Number is: 20\n",
      "Train mean silhouette: 0.5115894734859466\n",
      "Testing mean silhouette: 0.4742341756820679\n",
      "\n",
      "Cluster Number is: 21\n",
      "Train mean silhouette: 0.5128482520580292\n",
      "Testing mean silhouette: 0.46951727867126464\n",
      "\n",
      "Cluster Number is: 22\n",
      "Train mean silhouette: 0.5070148050785065\n",
      "Testing mean silhouette: 0.47509450912475587\n",
      "\n",
      "Cluster Number is: 23\n",
      "Train mean silhouette: 0.5091674506664277\n",
      "Testing mean silhouette: 0.47752506732940675\n",
      "\n",
      "Cluster Number is: 24\n",
      "Train mean silhouette: 0.4971317172050476\n",
      "Testing mean silhouette: 0.47038131952285767\n",
      "\n",
      "Cluster Number is: 25\n",
      "Train mean silhouette: 0.49891085624694825\n",
      "Testing mean silhouette: 0.46690641045570375\n",
      "\n",
      "Cluster Number is: 26\n",
      "Train mean silhouette: 0.5029869496822357\n",
      "Testing mean silhouette: 0.4618354022502899\n",
      "\n",
      "Cluster Number is: 27\n",
      "Train mean silhouette: 0.49972001314163206\n",
      "Testing mean silhouette: 0.46086484789848325\n",
      "\n",
      "Cluster Number is: 28\n",
      "Train mean silhouette: 0.4916121900081635\n",
      "Testing mean silhouette: 0.4585992217063904\n",
      "\n",
      "Cluster Number is: 29\n",
      "Train mean silhouette: 0.4881754517555237\n",
      "Testing mean silhouette: 0.45385159850120543\n",
      "\n",
      "Cluster Number is: 30\n",
      "Train mean silhouette: 0.49271568059921267\n",
      "Testing mean silhouette: 0.43911518454551696\n",
      "\n",
      "Cluster Number is: 31\n",
      "Train mean silhouette: 0.4876954436302185\n",
      "Testing mean silhouette: 0.4667803287506104\n",
      "\n",
      "Cluster Number is: 32\n",
      "Train mean silhouette: 0.4802721321582794\n",
      "Testing mean silhouette: 0.4500512957572937\n",
      "\n",
      "Cluster Number is: 33\n",
      "Train mean silhouette: 0.48405279517173766\n",
      "Testing mean silhouette: 0.44548545479774476\n",
      "\n",
      "Cluster Number is: 34\n",
      "Train mean silhouette: 0.48162893652915956\n",
      "Testing mean silhouette: 0.4383221924304962\n",
      "\n",
      "Cluster Number is: 35\n",
      "Train mean silhouette: 0.4780279636383057\n",
      "Testing mean silhouette: 0.44127585291862487\n",
      "\n",
      "Cluster Number is: 36\n",
      "Train mean silhouette: 0.4835050702095032\n",
      "Testing mean silhouette: 0.44205900430679324\n",
      "\n",
      "Cluster Number is: 37\n",
      "Train mean silhouette: 0.4797535836696625\n",
      "Testing mean silhouette: 0.43433329463005066\n",
      "\n",
      "Cluster Number is: 38\n",
      "Train mean silhouette: 0.4804287850856781\n",
      "Testing mean silhouette: 0.421493673324585\n",
      "\n",
      "Cluster Number is: 39\n",
      "Train mean silhouette: 0.4837133765220642\n",
      "Testing mean silhouette: 0.420399808883667\n",
      "\n",
      "Cluster Number is: 40\n",
      "Train mean silhouette: 0.47319220304489135\n",
      "Testing mean silhouette: 0.4302925765514374\n",
      "\n"
     ]
    }
   ],
   "source": [
    "mean_silhouette = [[], []]\n",
    "x = []\n",
    "for NUM_CLUSTERS in range(MIN_CLUSTERS, MAX_CLUSTERS+1):\n",
    "    x.append(NUM_CLUSTERS)\n",
    "    print(f'Cluster Number is: {NUM_CLUSTERS}')\n",
    "    train_mean_sil, test_mean_sil = cross_validation_k(tsne_tfidf_matrix, NUM_CLUSTERS, 5)\n",
    "    mean_silhouette[0].append(train_mean_sil)\n",
    "    mean_silhouette[1].append(test_mean_sil)"
   ]
  },
  {
   "cell_type": "markdown",
   "id": "5320884b",
   "metadata": {},
   "source": [
    "### Method 2: Elbow Curve Method"
   ]
  },
  {
   "cell_type": "code",
   "execution_count": 27,
   "id": "c12f2681",
   "metadata": {},
   "outputs": [
    {
     "data": {
      "image/png": "[encoded data removed]",
      "text/plain": [
       "<Figure size 432x288 with 1 Axes>"
      ]
     },
     "metadata": {
      "needs_background": "light"
     },
     "output_type": "display_data"
    }
   ],
   "source": [
    "sum_of_squared_dis = []\n",
    "for NUM_CLUSTERS in range(MIN_CLUSTERS, MAX_CLUSTERS+1):\n",
    "    kmeans = KMeans(n_clusters=NUM_CLUSTERS)\n",
    "    kmeans.fit(tsne_tfidf_matrix)\n",
    "    sum_of_squared_dis.append(kmeans.inertia_)\n",
    "plt.plot(range(MIN_CLUSTERS, MAX_CLUSTERS+1), sum_of_squared_dis, 'bx-')\n",
    "plt.xlabel('Number of Clusters')\n",
    "plt.ylabel('Sum of squared distances')\n",
    "plt.title('Elbow Curve for Optimial Clustering Number')\n",
    "# plt.show()\n",
    "plt.savefig('elbow.png', dpi=150)"
   ]
  },
  {
   "cell_type": "markdown",
   "id": "4c2f6477",
   "metadata": {},
   "source": [
    "The best clustering number could be 5 from this graph."
   ]
  },
  {
   "cell_type": "markdown",
   "id": "1fa37a5d",
   "metadata": {},
   "source": [
    "### Silhouette analysis"
   ]
  },
  {
   "cell_type": "code",
   "execution_count": 28,
   "id": "4c2b3098",
   "metadata": {},
   "outputs": [
    {
     "data": {
      "image/png": "[encoded data removed]",
      "text/plain": [
       "<Figure size 432x288 with 1 Axes>"
      ]
     },
     "metadata": {
      "needs_background": "light"
     },
     "output_type": "display_data"
    }
   ],
   "source": [
    "silhouette_avg = []\n",
    "for NUM_CLUSTERS in range(MIN_CLUSTERS, MAX_CLUSTERS+1):\n",
    "    kmeans = KMeans(n_clusters=NUM_CLUSTERS)\n",
    "    kmeans.fit(tsne_tfidf_matrix)\n",
    "    cluster_labels = kmeans.labels_\n",
    "    \n",
    "    silhouette_avg.append(metrics.silhouette_score(tsne_tfidf_matrix, cluster_labels))\n",
    "    \n",
    "plt.plot(range(MIN_CLUSTERS, MAX_CLUSTERS+1), silhouette_avg, 'bx-')\n",
    "plt.xlabel('Number of Clusters')\n",
    "plt.ylabel('Silhouette Score')\n",
    "plt.title('Silhouette Coefficient Analysis')\n",
    "# plt.show()\n",
    "plt.savefig('elbowsil.png', dpi=150)"
   ]
  },
  {
   "cell_type": "markdown",
   "id": "f4c2eb6f",
   "metadata": {},
   "source": [
    "So combining elbow curve method with silhouette coefficient, we find elbow method is not that accurate and stable."
   ]
  },
  {
   "cell_type": "markdown",
   "id": "277a7a08",
   "metadata": {},
   "source": [
    "### Method 3: Rule of Thumb"
   ]
  },
  {
   "cell_type": "code",
   "execution_count": 29,
   "id": "b1f70b72",
   "metadata": {},
   "outputs": [
    {
     "data": {
      "text/plain": [
       "20"
      ]
     },
     "execution_count": 29,
     "metadata": {},
     "output_type": "execute_result"
    }
   ],
   "source": [
    "NUM_CLUSTERS = round((len(norm_corpus)/2)**0.5)\n",
    "NUM_CLUSTERS"
   ]
  },
  {
   "cell_type": "markdown",
   "id": "dafa2325",
   "metadata": {},
   "source": [
    "## Visualize"
   ]
  },
  {
   "cell_type": "code",
   "execution_count": 30,
   "id": "e524dd3f",
   "metadata": {},
   "outputs": [
    {
     "data": {
      "image/png": "[encoded data removed]",
      "text/plain": [
       "<Figure size 432x288 with 1 Axes>"
      ]
     },
     "metadata": {
      "needs_background": "light"
     },
     "output_type": "display_data"
    }
   ],
   "source": [
    "width = 0.4\n",
    "default_x_ticks = range(len(x))\n",
    "plt.bar(np.arange(len(mean_silhouette[0])), mean_silhouette[0], width=width)\n",
    "plt.bar(np.arange(len(mean_silhouette[1]))+width, mean_silhouette[1], width=width)\n",
    "plt.xlabel(\"Number of Clusters\")\n",
    "plt.ylabel(\"Train/Test Mean Silhouette\")\n",
    "plt.title('Silhouette Coefficient')\n",
    "plt.xticks(default_x_ticks, x)\n",
    "# plt.legend(labels=['Train', 'Test'])\n",
    "plt.show()\n",
    "# plt.savefig('silhouette.png', dpi=200)"
   ]
  },
  {
   "cell_type": "code",
   "execution_count": 31,
   "id": "1cd38bb7",
   "metadata": {},
   "outputs": [],
   "source": [
    "NUM_CLUSTERS = 36"
   ]
  },
  {
   "cell_type": "code",
   "execution_count": 32,
   "id": "1f74af90",
   "metadata": {},
   "outputs": [
    {
     "data": {
      "image/png": "[encoded data removed]",
      "text/plain": [
       "<Figure size 432x288 with 1 Axes>"
      ]
     },
     "metadata": {
      "needs_background": "light"
     },
     "output_type": "display_data"
    }
   ],
   "source": [
    "km_s = KMeans(n_clusters=NUM_CLUSTERS, max_iter=10000, n_init=50, random_state=10)\n",
    "labels = km_s.fit_predict(tfidf)\n",
    "u_labels = np.unique(labels)\n",
    "for i in u_labels:\n",
    "    x = [row[0] for row in tsne_tfidf_matrix[labels == i]]\n",
    "    y = [row[1] for row in tsne_tfidf_matrix[labels == i]]\n",
    "    plt.scatter(x , y, label = 'Cluster ' + str(i+1))\n",
    "plt.legend()\n",
    "plt.xlabel(\"1st feature of document vectors\")\n",
    "plt.ylabel(\"2rd feature of document vectors\")\n",
    "plt.title('Cluster Distribution')\n",
    "# plt.show()\n",
    "plt.savefig('distribition.png', dpi=150)"
   ]
  },
  {
   "cell_type": "code",
   "execution_count": 33,
   "id": "043b2395",
   "metadata": {},
   "outputs": [],
   "source": [
    "from collections import Counter"
   ]
  },
  {
   "cell_type": "code",
   "execution_count": 34,
   "id": "3acfa62e",
   "metadata": {},
   "outputs": [
    {
     "data": {
      "text/plain": [
       "Counter({13: 24,\n",
       "         1: 27,\n",
       "         28: 12,\n",
       "         16: 35,\n",
       "         19: 11,\n",
       "         21: 22,\n",
       "         26: 23,\n",
       "         17: 44,\n",
       "         3: 31,\n",
       "         0: 25,\n",
       "         9: 25,\n",
       "         25: 22,\n",
       "         11: 29,\n",
       "         35: 14,\n",
       "         34: 15,\n",
       "         31: 16,\n",
       "         30: 22,\n",
       "         4: 37,\n",
       "         12: 34,\n",
       "         22: 20,\n",
       "         29: 14,\n",
       "         14: 31,\n",
       "         33: 13,\n",
       "         10: 14,\n",
       "         24: 15,\n",
       "         6: 13,\n",
       "         15: 21,\n",
       "         18: 14,\n",
       "         2: 59,\n",
       "         20: 14,\n",
       "         8: 19,\n",
       "         7: 6,\n",
       "         32: 12,\n",
       "         23: 14,\n",
       "         5: 9,\n",
       "         27: 20})"
      ]
     },
     "execution_count": 34,
     "metadata": {},
     "output_type": "execute_result"
    }
   ],
   "source": [
    "Counter(km_s.labels_)"
   ]
  },
  {
   "cell_type": "code",
   "execution_count": 35,
   "id": "92fcbdd2",
   "metadata": {},
   "outputs": [],
   "source": [
    "df['KMeans_Cluster'] = km_s.labels_"
   ]
  },
  {
   "cell_type": "code",
   "execution_count": 36,
   "id": "e014955d",
   "metadata": {},
   "outputs": [],
   "source": [
    "paper_clusters = (df[['Title', 'KMeans_Cluster']]\n",
    "                  .sort_values(by=['KMeans_Cluster'])\n",
    "                 .groupby('KMeans_Cluster').head(3))"
   ]
  },
  {
   "cell_type": "code",
   "execution_count": 37,
   "id": "5b90f6b0",
   "metadata": {},
   "outputs": [
    {
     "data": {
      "text/html": [
       "<div>\n",
       "<style scoped>\n",
       "    .dataframe tbody tr th:only-of-type {\n",
       "        vertical-align: middle;\n",
       "    }\n",
       "\n",
       "    .dataframe tbody tr th {\n",
       "        vertical-align: top;\n",
       "    }\n",
       "\n",
       "    .dataframe thead th {\n",
       "        text-align: right;\n",
       "    }\n",
       "</style>\n",
       "<table border=\"1\" class=\"dataframe\">\n",
       "  <thead>\n",
       "    <tr style=\"text-align: right;\">\n",
       "      <th></th>\n",
       "      <th>Title</th>\n",
       "      <th>KMeans_Cluster</th>\n",
       "    </tr>\n",
       "  </thead>\n",
       "  <tbody>\n",
       "    <tr>\n",
       "      <th>106</th>\n",
       "      <td>Agent Scheduling in Opinion Dynamics: A Taxono...</td>\n",
       "      <td>0</td>\n",
       "    </tr>\n",
       "    <tr>\n",
       "      <th>45</th>\n",
       "      <td>Agent-Based Simulation of West Asian Urban Dyn...</td>\n",
       "      <td>0</td>\n",
       "    </tr>\n",
       "    <tr>\n",
       "      <th>236</th>\n",
       "      <td>Robust Clustering in Generalized Bounded Confi...</td>\n",
       "      <td>0</td>\n",
       "    </tr>\n",
       "    <tr>\n",
       "      <th>408</th>\n",
       "      <td>Evolving Greenhouses: An Agent-Based Model of ...</td>\n",
       "      <td>1</td>\n",
       "    </tr>\n",
       "    <tr>\n",
       "      <th>314</th>\n",
       "      <td>Innovation Suppression and Clique Evolution in...</td>\n",
       "      <td>1</td>\n",
       "    </tr>\n",
       "    <tr>\n",
       "      <th>...</th>\n",
       "      <td>...</td>\n",
       "      <td>...</td>\n",
       "    </tr>\n",
       "    <tr>\n",
       "      <th>591</th>\n",
       "      <td>Agent-Based Urban Land Markets: Agent's Pricin...</td>\n",
       "      <td>34</td>\n",
       "    </tr>\n",
       "    <tr>\n",
       "      <th>258</th>\n",
       "      <td>TreatMethHarm: An Agent-Based Simulation of Ho...</td>\n",
       "      <td>34</td>\n",
       "    </tr>\n",
       "    <tr>\n",
       "      <th>63</th>\n",
       "      <td>An Agent-Based Model for Simulating Inter-Sett...</td>\n",
       "      <td>35</td>\n",
       "    </tr>\n",
       "    <tr>\n",
       "      <th>145</th>\n",
       "      <td>Task Structure, Individual Bounded Rationality...</td>\n",
       "      <td>35</td>\n",
       "    </tr>\n",
       "    <tr>\n",
       "      <th>208</th>\n",
       "      <td>Friendships and Social Networks in an Individu...</td>\n",
       "      <td>35</td>\n",
       "    </tr>\n",
       "  </tbody>\n",
       "</table>\n",
       "<p>108 rows × 2 columns</p>\n",
       "</div>"
      ],
      "text/plain": [
       "                                                 Title  KMeans_Cluster\n",
       "106  Agent Scheduling in Opinion Dynamics: A Taxono...               0\n",
       "45   Agent-Based Simulation of West Asian Urban Dyn...               0\n",
       "236  Robust Clustering in Generalized Bounded Confi...               0\n",
       "408  Evolving Greenhouses: An Agent-Based Model of ...               1\n",
       "314  Innovation Suppression and Clique Evolution in...               1\n",
       "..                                                 ...             ...\n",
       "591  Agent-Based Urban Land Markets: Agent's Pricin...              34\n",
       "258  TreatMethHarm: An Agent-Based Simulation of Ho...              34\n",
       "63   An Agent-Based Model for Simulating Inter-Sett...              35\n",
       "145  Task Structure, Individual Bounded Rationality...              35\n",
       "208  Friendships and Social Networks in an Individu...              35\n",
       "\n",
       "[108 rows x 2 columns]"
      ]
     },
     "execution_count": 37,
     "metadata": {},
     "output_type": "execute_result"
    }
   ],
   "source": [
    "paper_clusters"
   ]
  },
  {
   "cell_type": "code",
   "execution_count": 38,
   "id": "04c0f7b5",
   "metadata": {},
   "outputs": [
    {
     "data": {
      "text/html": [
       "<div>\n",
       "<style scoped>\n",
       "    .dataframe tbody tr th:only-of-type {\n",
       "        vertical-align: middle;\n",
       "    }\n",
       "\n",
       "    .dataframe tbody tr th {\n",
       "        vertical-align: top;\n",
       "    }\n",
       "\n",
       "    .dataframe thead th {\n",
       "        text-align: right;\n",
       "    }\n",
       "</style>\n",
       "<table border=\"1\" class=\"dataframe\">\n",
       "  <thead>\n",
       "    <tr style=\"text-align: right;\">\n",
       "      <th></th>\n",
       "      <th>0</th>\n",
       "      <th>1</th>\n",
       "      <th>2</th>\n",
       "      <th>3</th>\n",
       "      <th>4</th>\n",
       "      <th>5</th>\n",
       "      <th>6</th>\n",
       "      <th>7</th>\n",
       "      <th>8</th>\n",
       "      <th>9</th>\n",
       "      <th>...</th>\n",
       "      <th>13</th>\n",
       "      <th>14</th>\n",
       "      <th>15</th>\n",
       "      <th>16</th>\n",
       "      <th>17</th>\n",
       "      <th>18</th>\n",
       "      <th>19</th>\n",
       "      <th>20</th>\n",
       "      <th>21</th>\n",
       "      <th>22</th>\n",
       "    </tr>\n",
       "  </thead>\n",
       "  <tbody>\n",
       "    <tr>\n",
       "      <th>0</th>\n",
       "      <td>agentbased</td>\n",
       "      <td>agentbased model</td>\n",
       "      <td>analysis</td>\n",
       "      <td>approach</td>\n",
       "      <td>base</td>\n",
       "      <td>data</td>\n",
       "      <td>different</td>\n",
       "      <td>dynamic</td>\n",
       "      <td>effect</td>\n",
       "      <td>individual</td>\n",
       "      <td>...</td>\n",
       "      <td>paper</td>\n",
       "      <td>process</td>\n",
       "      <td>result</td>\n",
       "      <td>show</td>\n",
       "      <td>simulation</td>\n",
       "      <td>social</td>\n",
       "      <td>study</td>\n",
       "      <td>system</td>\n",
       "      <td>theory</td>\n",
       "      <td>use</td>\n",
       "    </tr>\n",
       "  </tbody>\n",
       "</table>\n",
       "<p>1 rows × 23 columns</p>\n",
       "</div>"
      ],
      "text/plain": [
       "           0                 1         2         3     4     5          6   \\\n",
       "0  agentbased  agentbased model  analysis  approach  base  data  different   \n",
       "\n",
       "        7       8           9   ...     13       14      15    16          17  \\\n",
       "0  dynamic  effect  individual  ...  paper  process  result  show  simulation   \n",
       "\n",
       "       18     19      20      21   22  \n",
       "0  social  study  system  theory  use  \n",
       "\n",
       "[1 rows x 23 columns]"
      ]
     },
     "execution_count": 38,
     "metadata": {},
     "output_type": "execute_result"
    }
   ],
   "source": [
    "feature_names = cv.get_feature_names_out()\n",
    "pd.DataFrame(feature_names).T"
   ]
  },
  {
   "cell_type": "code",
   "execution_count": 39,
   "id": "21167d35",
   "metadata": {},
   "outputs": [],
   "source": [
    "ordered_centroids = km_s.cluster_centers_.argsort()"
   ]
  },
  {
   "cell_type": "code",
   "execution_count": 40,
   "id": "295d8497",
   "metadata": {},
   "outputs": [
    {
     "data": {
      "text/plain": [
       "array([[ 2, 10, 12,  3,  9,  6,  8,  5, 14, 20, 21, 15, 16, 13, 22,  4,\n",
       "        18, 19, 17,  1,  0, 11,  7],\n",
       "       [ 3, 14, 21,  8,  7,  6,  2,  5,  9, 12, 19, 15, 10, 16, 13,  4,\n",
       "        18, 22, 17,  1, 11,  0, 20],\n",
       "       [ 0, 20, 19, 18, 17, 16, 15, 14, 13, 12, 21, 11,  9,  8,  7,  6,\n",
       "         5,  4,  3,  2,  1, 10, 22],\n",
       "       [12, 20, 19,  2, 14,  7,  3, 10, 18,  8, 16,  6, 21, 15,  9, 13,\n",
       "        17,  4,  1,  5,  0, 22, 11],\n",
       "       [ 5, 13,  3, 21,  6, 16,  4,  2, 14, 20, 15,  9, 10, 19, 17, 22,\n",
       "         7,  8,  1,  0, 11, 18, 12],\n",
       "       [22, 18, 17, 16, 15, 14, 13, 12, 19, 10,  8,  7,  6,  5,  4,  3,\n",
       "         2,  1,  9, 20, 21, 11,  0],\n",
       "       [ 9, 15, 10, 21, 12,  1,  4, 16, 18,  7,  8,  5, 20, 19, 13,  6,\n",
       "         3, 14, 22,  2, 11,  0, 17],\n",
       "       [ 8, 14, 12, 21, 10,  9, 15, 16,  6,  5,  3, 20,  0,  1, 19, 13,\n",
       "         4, 22, 11,  7, 17, 18,  2],\n",
       "       [22, 15, 13, 21,  9, 16, 19,  5,  4,  3,  2,  6,  1, 12,  8,  7,\n",
       "        10, 14, 11, 20,  0, 17, 18],\n",
       "       [ 6,  9, 10,  3, 16,  2, 13, 15,  8, 21, 22,  1, 20,  5, 19,  4,\n",
       "        12,  0,  7, 18, 17, 11, 14],\n",
       "       [ 8, 20, 10,  9,  5,  6,  3,  4, 14, 21, 12, 16, 22, 13,  2,  7,\n",
       "         1, 15, 18,  0, 17, 11, 19],\n",
       "       [14,  8,  5, 15,  9, 10,  2, 16, 19, 20,  6, 13,  3, 22,  1, 12,\n",
       "         7,  0,  4, 18, 17, 11, 21],\n",
       "       [ 3, 16,  5,  9, 21, 12,  7, 10, 19,  8,  6, 15,  2, 14, 18, 13,\n",
       "        22,  4, 20, 17,  1,  0, 11],\n",
       "       [ 9, 21,  4,  2, 16, 19,  6,  8,  3, 22, 14, 10, 20, 15, 13,  5,\n",
       "        12,  7, 17,  1,  0, 11, 18],\n",
       "       [ 3,  5,  2, 10,  1,  9, 16,  8, 15,  0, 12, 14,  6, 13, 19, 22,\n",
       "         4,  7, 21, 18, 11, 17, 20],\n",
       "       [ 3,  5,  6,  9, 21, 15, 14,  1, 22,  2, 16, 13, 20,  4,  8,  0,\n",
       "        12, 19, 10, 11, 17, 18,  7],\n",
       "       [10, 14,  5,  3, 15, 21,  6, 19, 13,  9,  2, 18,  8, 22, 16,  4,\n",
       "         1, 20,  7, 17,  0, 11, 12],\n",
       "       [ 9,  2,  3,  4,  5, 14,  7, 13, 10, 21, 18, 16, 19, 12, 22, 15,\n",
       "        20,  6,  8, 17,  0, 11,  1],\n",
       "       [ 0, 20, 17, 16, 15, 14,  9, 22,  6,  5,  4,  2,  1,  7, 19, 13,\n",
       "         8,  3, 21, 11, 12, 10, 18],\n",
       "       [ 9, 14, 12, 10,  7, 19,  4,  3,  2, 20, 16, 21, 13, 15,  8,  6,\n",
       "         1,  5,  0, 11, 18, 22, 17],\n",
       "       [ 0, 14, 21,  6,  5,  8,  2,  1, 19, 16, 18,  7, 15, 13, 20, 12,\n",
       "         9, 22, 10, 17,  3, 11,  4],\n",
       "       [ 3,  5, 20,  2, 12, 21, 10,  4, 13,  1, 19, 14, 15, 16, 22,  0,\n",
       "         9,  7, 18, 17,  8, 11,  6],\n",
       "       [ 9, 14, 13, 21,  8, 20,  5, 18, 12,  3, 15, 10,  7, 19,  6, 16,\n",
       "         1, 22,  4, 11,  0, 17,  2],\n",
       "       [ 2, 16,  6,  7,  8,  9, 10, 21, 15, 22,  4, 19, 12, 13,  3,  0,\n",
       "        20,  1, 11, 14,  5, 17, 18],\n",
       "       [ 6,  7,  8,  9, 12, 13, 14, 16,  4,  5, 22, 19, 10,  1, 21,  2,\n",
       "        11, 15, 20,  0, 17, 18,  3],\n",
       "       [21,  9, 18, 12,  6, 16,  4, 14, 17,  8,  7,  3, 19, 15,  5, 13,\n",
       "        10, 20, 22,  1,  0,  2, 11],\n",
       "       [ 8,  2, 10, 21, 19, 14,  6, 16, 15, 12,  9,  4, 20,  5, 18, 13,\n",
       "        22,  7, 17,  1,  0, 11,  3],\n",
       "       [ 0, 20, 19, 18, 16, 15, 14, 13, 12, 10, 22,  8,  7,  6,  5,  4,\n",
       "         3,  2,  1,  9, 11, 21, 17],\n",
       "       [ 8, 21, 20, 10,  2,  0, 14,  1,  6, 18,  3, 19, 12,  4, 16, 22,\n",
       "        13,  5, 17, 11,  7,  9, 15],\n",
       "       [ 8, 12, 10,  6, 16, 19, 14,  3, 15,  9, 20,  7,  1, 13, 18, 21,\n",
       "         0, 22,  4,  2, 17, 11,  5],\n",
       "       [ 9, 14, 21, 20,  5, 10, 13,  6,  3, 16,  4, 22,  1, 18,  2, 15,\n",
       "         7, 12, 19, 17,  0, 11,  8],\n",
       "       [20,  5,  8,  2,  3, 12, 10, 21, 13, 14,  4, 18, 22, 19, 16, 15,\n",
       "         6,  7, 17,  1,  0, 11,  9],\n",
       "       [16, 14, 13, 21, 20,  5, 10,  8,  6,  3,  9,  1,  7, 15,  2, 19,\n",
       "         0, 22, 12, 18, 17, 11,  4],\n",
       "       [ 9, 16, 13, 21,  4, 10,  8, 18, 15,  6, 19, 20,  2,  3, 22, 14,\n",
       "         5,  7,  1,  0, 12, 11, 17],\n",
       "       [10, 16,  7,  3,  9, 12, 18, 14, 17,  4,  2, 15,  8, 21,  6, 20,\n",
       "        13,  5, 19,  1, 11,  0, 22],\n",
       "       [ 2,  4,  5,  6, 13, 20,  7,  3,  8, 19, 16, 21, 17, 22, 12, 15,\n",
       "        18, 14,  9,  1,  0, 11, 10]])"
      ]
     },
     "execution_count": 40,
     "metadata": {},
     "output_type": "execute_result"
    }
   ],
   "source": [
    "ordered_centroids"
   ]
  },
  {
   "cell_type": "code",
   "execution_count": 41,
   "id": "4fbecac4",
   "metadata": {},
   "outputs": [
    {
     "name": "stdout",
     "output_type": "stream",
     "text": [
      "CLUSTER #0\n",
      "Key Features: ['analysis', 'interaction', 'network', 'approach', 'individual', 'different', 'effect', 'data', 'process', 'system']\n",
      "Papers: ['Agent Scheduling in Opinion Dynamics: A Taxonomy and Comparison Using Generalized Models'\n",
      " 'Agent-Based Simulation of West Asian Urban Dynamics: Impact of Refugees'\n",
      " 'Robust Clustering in Generalized Bounded Confidence Models']\n",
      "--------------------------------------------------------------------------------\n",
      "CLUSTER #1\n",
      "Key Features: ['approach', 'process', 'theory', 'effect', 'dynamic', 'different', 'analysis', 'data', 'individual', 'network']\n",
      "Papers: ['Evolving Greenhouses: An Agent-Based Model of Universal Darwinism in Greenhouse Horticulture'\n",
      " 'Innovation Suppression and Clique Evolution in Peer-Review-Based, Competitive Research Funding Systems: An Agent-Based Model'\n",
      " 'The Interplay Between Conformity and Anticonformity and its Polarizing Effect on Society']\n",
      "--------------------------------------------------------------------------------\n",
      "CLUSTER #2\n",
      "Key Features: ['agentbased', 'system', 'study', 'social', 'simulation', 'show', 'result', 'process', 'paper', 'network']\n",
      "Papers: ['Transitions Between Homophilic and Heterophilic Modes of Cooperation'\n",
      " 'Reciprocity, Sanctions, and the Development of Mutual Obligation in Egalitarian Societies'\n",
      " 'Deception and Convergence of Opinions']\n",
      "--------------------------------------------------------------------------------\n",
      "CLUSTER #3\n",
      "Key Features: ['network', 'system', 'study', 'analysis', 'process', 'dynamic', 'approach', 'interaction', 'social', 'effect']\n",
      "Papers: ['Towards the Right Ordering of the Sequence of Models for the Evolution of a Population Using Agent-Based Simulation'\n",
      " 'Fear, Behaviour, and the COVID-19 Pandemic: A City-Scale Agent-Based Model Using Socio-Demographic and Spatial Map Data'\n",
      " 'The Role of Reinforcement Learning in the Emergence of Conventions: Simulation Experiments with the Repeated Volunteer’s Dilemma']\n",
      "--------------------------------------------------------------------------------\n",
      "CLUSTER #4\n",
      "Key Features: ['data', 'paper', 'approach', 'theory', 'different', 'show', 'base', 'analysis', 'process', 'system']\n",
      "Papers: ['Responsiveness of Mining Community Acceptance Model to Key Parameter Changes'\n",
      " 'Social Influence and Decision-Making: Evaluating Agent Networks in Village Responses to Change in Freshwater'\n",
      " 'A Psychologically-Motivated Model of Opinion Change with Applications to American Politics']\n",
      "--------------------------------------------------------------------------------\n",
      "CLUSTER #5\n",
      "Key Features: ['use', 'social', 'simulation', 'show', 'result', 'process', 'paper', 'network', 'study', 'interaction']\n",
      "Papers: ['An Agent-Based Representation of the Garbage Can Model of Organizational Choice'\n",
      " 'Technical Note: Evaluating Java Development Kits for Agent-Based Modeling'\n",
      " 'REsCape: an Agent-Based Framework for Modeling Resources, Ethnicity, and Conflict']\n",
      "--------------------------------------------------------------------------------\n",
      "CLUSTER #6\n",
      "Key Features: ['individual', 'result', 'interaction', 'theory', 'network', 'agentbased model', 'base', 'show', 'social', 'dynamic']\n",
      "Papers: ['Improving Learning in Business Simulations with an Agent-Based Approach'\n",
      " 'Agent-Based Simulation of Mass Shootings: Determining How to Limit the Scale of a Tragedy'\n",
      " 'Agent-Based Simulation of Time to Decide: Military Commands and Time Delays']\n",
      "--------------------------------------------------------------------------------\n",
      "CLUSTER #7\n",
      "Key Features: ['effect', 'process', 'network', 'theory', 'interaction', 'individual', 'result', 'show', 'different', 'data']\n",
      "Papers: ['SocLab: A Framework for the Modeling, Simulation and Analysis of Power in Social Organizations'\n",
      " 'Recent Development of Social Simulation as Reflected in JASSS Between 2008 and 2014: A Citation and Co-Citation Analysis'\n",
      " 'Using Social Simulation to Explore the Dynamics at Stake in Participatory Research']\n",
      "--------------------------------------------------------------------------------\n",
      "CLUSTER #8\n",
      "Key Features: ['use', 'result', 'paper', 'theory', 'individual', 'show', 'study', 'data', 'base', 'approach']\n",
      "Papers: ['The Effects of Group Composition and Social Preference Heterogeneity in a Public Goods Game: An Agent-Based Simulation'\n",
      " 'Repast Simphony Statecharts'\n",
      " 'Engineering Agent-Based Social Simulations: An Introduction']\n",
      "--------------------------------------------------------------------------------\n",
      "CLUSTER #9\n",
      "Key Features: ['different', 'individual', 'interaction', 'approach', 'show', 'analysis', 'paper', 'result', 'effect', 'theory']\n",
      "Papers: ['A Social Process in Science and Its Content in a Simulation Program'\n",
      " 'Communication Between Process and Structure: Modelling and Simulating Message Reference Networks with COM/TE'\n",
      " 'Simulating the Social Processes of Science']\n",
      "--------------------------------------------------------------------------------\n",
      "CLUSTER #10\n",
      "Key Features: ['effect', 'system', 'interaction', 'individual', 'data', 'different', 'approach', 'base', 'process', 'theory']\n",
      "Papers: ['Homo Socionicus:  a Case Study of Simulation Models of Norms'\n",
      " 'It Pays to Be Popular: a Study of Civilian Assistance and Guerilla Warfare'\n",
      " 'ABOOMS: Overcoming the Hurdles of Continuous-Time Public Goods Games with a Simulation-Based Approach']\n",
      "--------------------------------------------------------------------------------\n",
      "CLUSTER #11\n",
      "Key Features: ['process', 'effect', 'data', 'result', 'individual', 'interaction', 'analysis', 'show', 'study', 'system']\n",
      "Papers: ['Modelling Theory Communities in Science'\n",
      " 'Socionic Multi-Agent Systems Based on Reflexive Petri Nets and Theories of Social Self-Organisation'\n",
      " 'The Extortion Relationship: A Computational Analysis']\n",
      "--------------------------------------------------------------------------------\n",
      "CLUSTER #12\n",
      "Key Features: ['approach', 'show', 'data', 'individual', 'theory', 'network', 'dynamic', 'interaction', 'study', 'effect']\n",
      "Papers: ['A Formal Model for the Fifth Discipline'\n",
      " 'Improving Execution Speed of Models Implemented in NetLogo'\n",
      " 'A Model for a Simple Luhmann Economy']\n",
      "--------------------------------------------------------------------------------\n",
      "CLUSTER #13\n",
      "Key Features: ['individual', 'theory', 'base', 'analysis', 'show', 'study', 'different', 'effect', 'approach', 'use']\n",
      "Papers: ['An Agent-Based Model of Sustainable Corporate Social Responsibility Activities'\n",
      " 'Simulating Rural Environmentally and Socio-Economically Constrained Multi-Activity and Multi-Decision Societies in a Low-Data Context: A Challenge Through Empirical Agent-Based Modeling'\n",
      " 'Challenges in Modelling Social Conflicts:   Grappling with Polysemy']\n",
      "--------------------------------------------------------------------------------\n",
      "CLUSTER #14\n",
      "Key Features: ['approach', 'data', 'analysis', 'interaction', 'agentbased model', 'individual', 'show', 'effect', 'result', 'agentbased']\n",
      "Papers: ['A Survey of Agent Platforms'\n",
      " 'Using Microsimulation to Optimize an Income Transfer System Towards Poverty Reduction'\n",
      " 'Introducing the SAPS System and a Corresponding Allocation Mechanism for Synchronous Online Reciprocal Peer Support Activities']\n",
      "--------------------------------------------------------------------------------\n",
      "CLUSTER #15\n",
      "Key Features: ['approach', 'data', 'different', 'individual', 'theory', 'result', 'process', 'agentbased model', 'use', 'analysis']\n",
      "Papers: ['Simulation of The Dynamic Interactions Between Terror and Anti-Terror Organizational Structures'\n",
      " 'Knowledge Creation Facing Hierarchy: the Dynamics of groups inside the Firm'\n",
      " 'Attitude Dynamics With Limited Verbalisation Capabilities']\n",
      "--------------------------------------------------------------------------------\n",
      "CLUSTER #16\n",
      "Key Features: ['interaction', 'process', 'data', 'approach', 'result', 'theory', 'different', 'study', 'paper', 'individual']\n",
      "Papers: ['Indirect Reciprocity with Contagious Reputation in Large-Scale Small-World Networks'\n",
      " \"A Double-Layer Network and the Contagion Mechanism of China's Financial Systemic Risk\"\n",
      " 'Taking into Account the Variations of Neighbourhood Sizes in the Mean-Field Approximation of the Threshold Model on a Random Network']\n",
      "--------------------------------------------------------------------------------\n",
      "CLUSTER #17\n",
      "Key Features: ['individual', 'analysis', 'approach', 'base', 'data', 'process', 'dynamic', 'paper', 'interaction', 'theory']\n",
      "Papers: ['Aspiration, Attainment and Success: An Agent-Based Model of Distance-Based School Allocation'\n",
      " \"Prospects and Pitfalls of Statistical Testing: Insights from Replicating the Demographic Prisoner's Dilemma\"\n",
      " 'Impact of Population Relocation to City Commerce: Micro-Level Estimation with Validated Agent-Based Model']\n",
      "--------------------------------------------------------------------------------\n",
      "CLUSTER #18\n",
      "Key Features: ['agentbased', 'system', 'simulation', 'show', 'result', 'process', 'individual', 'use', 'different', 'data']\n",
      "Papers: ['Towards Good Social Science'\n",
      " 'Digested Information as an Information Theoretic Motivation for Social Interaction'\n",
      " 'Generating Social Practices']\n",
      "--------------------------------------------------------------------------------\n",
      "CLUSTER #19\n",
      "Key Features: ['individual', 'process', 'network', 'interaction', 'dynamic', 'study', 'base', 'approach', 'analysis', 'system']\n",
      "Papers: ['Generation of Synthetic Populations in Social Simulations: A Review of Methods and Practices'\n",
      " 'Using Computational Agents to Design Participatory Social Simulations'\n",
      " 'Fuzzy Logic for Social Simulation Using NetLogo']\n",
      "--------------------------------------------------------------------------------\n",
      "CLUSTER #20\n",
      "Key Features: ['agentbased', 'process', 'theory', 'different', 'data', 'effect', 'analysis', 'agentbased model', 'study', 'show']\n",
      "Papers: ['The Viability of Cooperation Based on Interpersonal Commitment'\n",
      " 'Forecasting a Language Shift Based on Cellular Automata'\n",
      " 'Design Guidelines for Agent Based Model Visualization']\n",
      "--------------------------------------------------------------------------------\n",
      "CLUSTER #21\n",
      "Key Features: ['approach', 'data', 'system', 'analysis', 'network', 'theory', 'interaction', 'base', 'paper', 'agentbased model']\n",
      "Papers: ['Imitation and Cooperation in Different Helping Games'\n",
      " 'Conflicts Induced by Different Responses to Land Expropriation Among the Farmers Involved During Urbanization in China'\n",
      " 'Opinion Communication on Contested Topics: How Empirics and Arguments can Improve Social Simulation']\n",
      "--------------------------------------------------------------------------------\n",
      "CLUSTER #22\n",
      "Key Features: ['individual', 'process', 'paper', 'theory', 'effect', 'system', 'data', 'social', 'network', 'approach']\n",
      "Papers: ['An Empirical Game-Theoretic Analysis of the Dynamics of Cooperation in Small Groups'\n",
      " 'Pricing and Timing Strategies for New Product Using Agent-Based Simulation of Behavioural Consumers'\n",
      " 'Stylised Facts and the Contribution of Simulation  to the Economic Analysis of Budgeting']\n",
      "--------------------------------------------------------------------------------\n",
      "CLUSTER #23\n",
      "Key Features: ['analysis', 'show', 'different', 'dynamic', 'effect', 'individual', 'interaction', 'theory', 'result', 'use']\n",
      "Papers: ['Social Simulations: Improving Interdisciplinary Understanding of Scientific Positioning and Validity'\n",
      " 'Applied Evolutionary Economics and Social Simulation'\n",
      " 'Social Simulation of Stock Markets: Taking It to the Next Level']\n",
      "--------------------------------------------------------------------------------\n",
      "CLUSTER #24\n",
      "Key Features: ['different', 'dynamic', 'effect', 'individual', 'network', 'paper', 'process', 'show', 'base', 'data']\n",
      "Papers: ['Spatial Behavior in Groups: an Agent-Based Approach'\n",
      " 'Construction and Evaluation of Social Agents in Hybrid Settings: Approach and Experimental Results of the INKA Project'\n",
      " \"Appearances Can Be Deceiving: Lessons Learned Re-Implementing Axelrod's 'Evolutionary Approach to Norms'\"]\n",
      "--------------------------------------------------------------------------------\n",
      "CLUSTER #25\n",
      "Key Features: ['theory', 'individual', 'social', 'network', 'different', 'show', 'base', 'process', 'simulation', 'effect']\n",
      "Papers: ['Countries as Agents in a Global-Scale Computational Model'\n",
      " 'From Micro Behaviors to Macro Dynamics: An Agent-Based Economic Model with Consumer Credit'\n",
      " 'Using Agent-Based Modelling to Assess Scenarios for Enhanced Soil and Water Conservation in the Boset District, Ethiopia']\n",
      "--------------------------------------------------------------------------------\n",
      "CLUSTER #26\n",
      "Key Features: ['effect', 'analysis', 'interaction', 'theory', 'study', 'process', 'different', 'show', 'result', 'network']\n",
      "Papers: ['Modelling Sustainability Transitions: An Assessment of Approaches and Challenges'\n",
      " 'Alternative Approaches to the Empirical Validation of Agent-Based   Models'\n",
      " 'For an Integrated Approach to Agent-Based Modeling of Science']\n",
      "--------------------------------------------------------------------------------\n",
      "CLUSTER #27\n",
      "Key Features: ['agentbased', 'system', 'study', 'social', 'show', 'result', 'process', 'paper', 'network', 'interaction']\n",
      "Papers: ['Scale-Free Relationships Facilitate Cooperation in Spatial Games with Sequential Strategy'\n",
      " 'Higher-Order Simulations: Strategic Investment Under Model-Induced Price Patterns'\n",
      " 'From Participants to Agents: Grounded Simulation as a Mixed-Method Research Design']\n",
      "--------------------------------------------------------------------------------\n",
      "CLUSTER #28\n",
      "Key Features: ['effect', 'theory', 'system', 'interaction', 'analysis', 'agentbased', 'process', 'agentbased model', 'different', 'social']\n",
      "Papers: ['Dynamic Pricing Strategies for Perishable Product in a Competitive Multi-Agent Retailers Market'\n",
      " 'A Heuristic Combinatorial Optimisation Approach to Synthesising a Population for Agent Based Modelling Purposes'\n",
      " 'Generating a Two-Layered Synthetic Population for French Municipalities: Results and Evaluation of Four Synthetic Reconstruction Methods']\n",
      "--------------------------------------------------------------------------------\n",
      "CLUSTER #29\n",
      "Key Features: ['effect', 'network', 'interaction', 'different', 'show', 'study', 'process', 'approach', 'result', 'individual']\n",
      "Papers: ['Computational Models That Matter During a Global Pandemic Outbreak: A Call to Action'\n",
      " 'Structuring Qualitative Data for Agent-Based Modelling'\n",
      " 'Revising the Human Development Sequence Theory Using an Agent-Based Approach and Data']\n",
      "--------------------------------------------------------------------------------\n",
      "CLUSTER #30\n",
      "Key Features: ['individual', 'process', 'theory', 'system', 'data', 'interaction', 'paper', 'different', 'approach', 'show']\n",
      "Papers: ['Interpreting School Choice Treatment Effects: Results and Implications from Computational Experiments'\n",
      " 'On the Macroeconomic Effect of Extortion: An Agent-Based Approach'\n",
      " 'An Agent-Based Model of Mortality Shocks,   Intergenerational Effects, and Urban Crime']\n",
      "--------------------------------------------------------------------------------\n",
      "CLUSTER #31\n",
      "Key Features: ['system', 'data', 'effect', 'analysis', 'approach', 'network', 'interaction', 'theory', 'paper', 'process']\n",
      "Papers: ['Population Heterogeneity and Individual Differences in an Assortative Agent-Based Marriage and Divorce Model (MADAM) Using Search with Relaxing Expectations'\n",
      " 'Agent-Based Emergency Evacuation Simulation with Individuals with Disabilities in the Population'\n",
      " \"Old and Young Individuals' Role in Cultural Change\"]\n",
      "--------------------------------------------------------------------------------\n",
      "CLUSTER #32\n",
      "Key Features: ['show', 'process', 'paper', 'theory', 'system', 'data', 'interaction', 'effect', 'different', 'approach']\n",
      "Papers: ['Dilbert-Peter Model of Organization Effectiveness: Computer Simulations'\n",
      " '&quot;Anarchy&quot; Reigns: A Quantitative Analysis of Agent-Based Modelling Publication Practices in JASSS, 2001-2012'\n",
      " 'Building Mic-Core, a Specialized M&amp;S Software to Simulate Multi-State Demographic Micro Models, Based on JAMES II, a General M&amp;S Framework']\n",
      "--------------------------------------------------------------------------------\n",
      "CLUSTER #33\n",
      "Key Features: ['individual', 'show', 'paper', 'theory', 'base', 'interaction', 'effect', 'social', 'result', 'different']\n",
      "Papers: ['The Methodology of Simulation Models: Chances and Risks'\n",
      " 'Modelling &quot;Marriage Markets&quot;: A Population-Scale Implementation and Parameter Test'\n",
      " 'Participatory Modeling and Simulation with the GAMA Platform']\n",
      "--------------------------------------------------------------------------------\n",
      "CLUSTER #34\n",
      "Key Features: ['interaction', 'show', 'dynamic', 'approach', 'individual', 'network', 'social', 'process', 'simulation', 'base']\n",
      "Papers: ['Efficient and Effective Pair-Matching Algorithms for Agent-Based Models'\n",
      " \"Agent-Based Urban Land Markets: Agent's Pricing Behavior, Land Prices and Urban Land Use Change\"\n",
      " 'TreatMethHarm: An Agent-Based Simulation of How People Who Use Methamphetamine Access Treatment']\n",
      "--------------------------------------------------------------------------------\n",
      "CLUSTER #35\n",
      "Key Features: ['analysis', 'base', 'data', 'different', 'paper', 'system', 'dynamic', 'approach', 'effect', 'study']\n",
      "Papers: ['An Agent-Based Model for Simulating Inter-Settlement Trade in Past Societies'\n",
      " 'Task Structure, Individual Bounded Rationality and Crowdsourcing Performance: An Agent-Based Simulation Approach'\n",
      " 'Friendships and Social Networks in an Individual-Based Model of Primate Social Behaviour']\n",
      "--------------------------------------------------------------------------------\n"
     ]
    }
   ],
   "source": [
    "topn_features = 10\n",
    "for cluster_num in range(NUM_CLUSTERS):\n",
    "    key_features = [feature_names[index]\n",
    "                       for index in ordered_centroids[cluster_num, : topn_features]]\n",
    "    papers = paper_clusters[paper_clusters['KMeans_Cluster'] == cluster_num]['Title'].values\n",
    "    print('CLUSTER #' + str(cluster_num))\n",
    "    print('Key Features:', key_features)\n",
    "    print('Papers:', papers)\n",
    "    print('-'*80)"
   ]
  },
  {
   "cell_type": "code",
   "execution_count": 42,
   "id": "c95ed847",
   "metadata": {},
   "outputs": [],
   "source": [
    "pd.options.display.max_colwidth = 150"
   ]
  },
  {
   "cell_type": "code",
   "execution_count": 43,
   "id": "5e8aaa4c",
   "metadata": {},
   "outputs": [
    {
     "ename": "ValueError",
     "evalue": "Your DataFrame has more than 100 rows and will produce a huge image file, possibly causing your computer to crash. Override this error by explicitly setting `max_rows`. Use -1 for all rows.",
     "output_type": "error",
     "traceback": [
      "\u001b[0;31m---------------------------------------------------------------------------\u001b[0m",
      "\u001b[0;31mValueError\u001b[0m                                Traceback (most recent call last)",
      "\u001b[0;32m/var/folders/fz/bgg5fjy950vb8ht_9q059r5c0000gn/T/ipykernel_18077/3560027631.py\u001b[0m in \u001b[0;36m<module>\u001b[0;34m\u001b[0m\n\u001b[1;32m      1\u001b[0m \u001b[0;32mimport\u001b[0m \u001b[0mdataframe_image\u001b[0m \u001b[0;32mas\u001b[0m \u001b[0mdfi\u001b[0m\u001b[0;34m\u001b[0m\u001b[0;34m\u001b[0m\u001b[0m\n\u001b[0;32m----> 2\u001b[0;31m \u001b[0mdfi\u001b[0m\u001b[0;34m.\u001b[0m\u001b[0mexport\u001b[0m\u001b[0;34m(\u001b[0m\u001b[0mpaper_clusters\u001b[0m\u001b[0;34m,\u001b[0m \u001b[0;34m'result.png'\u001b[0m\u001b[0;34m)\u001b[0m\u001b[0;34m\u001b[0m\u001b[0;34m\u001b[0m\u001b[0m\n\u001b[0m",
      "\u001b[0;32m~/opt/anaconda3/envs/nlp/lib/python3.9/site-packages/dataframe_image/_pandas_accessor.py\u001b[0m in \u001b[0;36mexport\u001b[0;34m(obj, filename, fontsize, max_rows, max_cols, table_conversion, chrome_path)\u001b[0m\n\u001b[1;32m     22\u001b[0m def export(obj, filename, fontsize=14, max_rows=None, max_cols=None, \n\u001b[1;32m     23\u001b[0m                table_conversion='chrome', chrome_path=None):\n\u001b[0;32m---> 24\u001b[0;31m         \u001b[0;32mreturn\u001b[0m \u001b[0m_export\u001b[0m\u001b[0;34m(\u001b[0m\u001b[0mobj\u001b[0m\u001b[0;34m,\u001b[0m \u001b[0mfilename\u001b[0m\u001b[0;34m,\u001b[0m \u001b[0mfontsize\u001b[0m\u001b[0;34m,\u001b[0m \u001b[0mmax_rows\u001b[0m\u001b[0;34m,\u001b[0m \u001b[0mmax_cols\u001b[0m\u001b[0;34m,\u001b[0m \u001b[0mtable_conversion\u001b[0m\u001b[0;34m,\u001b[0m \u001b[0mchrome_path\u001b[0m\u001b[0;34m)\u001b[0m\u001b[0;34m\u001b[0m\u001b[0;34m\u001b[0m\u001b[0m\n\u001b[0m\u001b[1;32m     25\u001b[0m \u001b[0;34m\u001b[0m\u001b[0m\n\u001b[1;32m     26\u001b[0m \u001b[0;34m\u001b[0m\u001b[0m\n",
      "\u001b[0;32m~/opt/anaconda3/envs/nlp/lib/python3.9/site-packages/dataframe_image/_pandas_accessor.py\u001b[0m in \u001b[0;36m_export\u001b[0;34m(obj, filename, fontsize, max_rows, max_cols, table_conversion, chrome_path)\u001b[0m\n\u001b[1;32m     46\u001b[0m                         \u001b[0;34m'Styled DataFrames are unable to select a subset of rows or columns '\u001b[0m\u001b[0;34m\u001b[0m\u001b[0;34m\u001b[0m\u001b[0m\n\u001b[1;32m     47\u001b[0m                         'and therefore do not work with the `max_rows` and `max_cols` parameters')\n\u001b[0;32m---> 48\u001b[0;31m         \u001b[0;32mraise\u001b[0m \u001b[0mValueError\u001b[0m\u001b[0;34m(\u001b[0m\u001b[0merror_msg\u001b[0m\u001b[0;34m)\u001b[0m\u001b[0;34m\u001b[0m\u001b[0;34m\u001b[0m\u001b[0m\n\u001b[0m\u001b[1;32m     49\u001b[0m     \u001b[0;32mif\u001b[0m \u001b[0mmax_rows\u001b[0m \u001b[0;34m==\u001b[0m \u001b[0;34m-\u001b[0m\u001b[0;36m1\u001b[0m\u001b[0;34m:\u001b[0m\u001b[0;34m\u001b[0m\u001b[0;34m\u001b[0m\u001b[0m\n\u001b[1;32m     50\u001b[0m         \u001b[0mmax_rows\u001b[0m \u001b[0;34m=\u001b[0m \u001b[0;32mNone\u001b[0m\u001b[0;34m\u001b[0m\u001b[0;34m\u001b[0m\u001b[0m\n",
      "\u001b[0;31mValueError\u001b[0m: Your DataFrame has more than 100 rows and will produce a huge image file, possibly causing your computer to crash. Override this error by explicitly setting `max_rows`. Use -1 for all rows."
     ]
    }
   ],
   "source": [
    "import dataframe_image as dfi\n",
    "dfi.export(paper_clusters, 'result.png')"
   ]
  },
  {
   "cell_type": "code",
   "execution_count": null,
   "id": "b1300294",
   "metadata": {},
   "outputs": [],
   "source": []
  }
 ],
 "metadata": {
  "kernelspec": {
   "display_name": "nlp",
   "language": "python",
   "name": "nlp"
  },
  "language_info": {
   "codemirror_mode": {
    "name": "ipython",
    "version": 3
   },
   "file_extension": ".py",
   "mimetype": "text/x-python",
   "name": "python",
   "nbconvert_exporter": "python",
   "pygments_lexer": "ipython3",
   "version": "3.9.7"
  }
 },
 "nbformat": 4,
 "nbformat_minor": 5
}
