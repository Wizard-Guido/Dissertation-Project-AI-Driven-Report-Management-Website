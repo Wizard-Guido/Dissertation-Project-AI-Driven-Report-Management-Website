{
 "cells": [
  {
   "cell_type": "markdown",
   "id": "6425fa7b",
   "metadata": {
    "id": "695355ed"
   },
   "source": [
    "# Load Dataset"
   ]
  },
  {
   "cell_type": "code",
   "execution_count": 1,
   "id": "ec59cb22",
   "metadata": {
    "id": "0fef38dc"
   },
   "outputs": [],
   "source": [
    "import pandas as pd"
   ]
  },
  {
   "cell_type": "code",
   "execution_count": 4,
   "id": "c5f64db5",
   "metadata": {
    "colab": {
     "base_uri": "https://localhost:8080/"
    },
    "id": "2cd7464a",
    "outputId": "2c3c6c33-6f7d-4c31-e2ef-a747c1a0beab",
    "scrolled": true
   },
   "outputs": [
    {
     "name": "stdout",
     "output_type": "stream",
     "text": [
      "<class 'pandas.core.frame.DataFrame'>\n",
      "RangeIndex: 1214 entries, 0 to 1213\n",
      "Data columns (total 5 columns):\n",
      " #   Column    Non-Null Count  Dtype \n",
      "---  ------    --------------  ----- \n",
      " 0   Title     1213 non-null   object\n",
      " 1   Writer    1210 non-null   object\n",
      " 2   KeyWord   1206 non-null   object\n",
      " 3   Abstract  1075 non-null   object\n",
      " 4   URL       1214 non-null   object\n",
      "dtypes: object(5)\n",
      "memory usage: 47.5+ KB\n"
     ]
    }
   ],
   "source": [
    "df = pd.read_xml('./JASSS_DATA/jasss/jass_paper_final_last.xml')\n",
    "df.info()"
   ]
  },
  {
   "cell_type": "code",
   "execution_count": 5,
   "id": "ddf5a68b",
   "metadata": {
    "colab": {
     "base_uri": "https://localhost:8080/",
     "height": 337
    },
    "id": "a28a96d7",
    "outputId": "09574081-6e35-4aea-9993-bfbe955b5cb6",
    "scrolled": false
   },
   "outputs": [
    {
     "data": {
      "text/html": [
       "<div>\n",
       "<style scoped>\n",
       "    .dataframe tbody tr th:only-of-type {\n",
       "        vertical-align: middle;\n",
       "    }\n",
       "\n",
       "    .dataframe tbody tr th {\n",
       "        vertical-align: top;\n",
       "    }\n",
       "\n",
       "    .dataframe thead th {\n",
       "        text-align: right;\n",
       "    }\n",
       "</style>\n",
       "<table border=\"1\" class=\"dataframe\">\n",
       "  <thead>\n",
       "    <tr style=\"text-align: right;\">\n",
       "      <th></th>\n",
       "      <th>Title</th>\n",
       "      <th>Writer</th>\n",
       "      <th>KeyWord</th>\n",
       "      <th>Abstract</th>\n",
       "      <th>URL</th>\n",
       "    </tr>\n",
       "  </thead>\n",
       "  <tbody>\n",
       "    <tr>\n",
       "      <th>0</th>\n",
       "      <td>Particle Swarm Optimization for Calibration in...</td>\n",
       "      <td>Alexander Michels, Jeon-Young Kang and Shaowen...</td>\n",
       "      <td>Agent-Based Modeling, Particle Swarm Optimizat...</td>\n",
       "      <td>None</td>\n",
       "      <td>https://www.jasss.org/25/2/8.html</td>\n",
       "    </tr>\n",
       "    <tr>\n",
       "      <th>1</th>\n",
       "      <td>On the Interplay Among Multiple Factors: Effec...</td>\n",
       "      <td>Woi Sok Oh, Alvaro Carmona-Cabrero, Rafael Muñ...</td>\n",
       "      <td>Agent-Based Model, Human Migration, Factor Con...</td>\n",
       "      <td>Many researchers have addressed what factors s...</td>\n",
       "      <td>https://www.jasss.org/25/2/7.html</td>\n",
       "    </tr>\n",
       "    <tr>\n",
       "      <th>2</th>\n",
       "      <td>Generation of Synthetic Populations in Social ...</td>\n",
       "      <td>Kevin Chapuis, Patrick Taillandier and Alexis ...</td>\n",
       "      <td>Synthetic Population, Agent-Based Simulation M...</td>\n",
       "      <td>With the aim of building realistic model of so...</td>\n",
       "      <td>https://www.jasss.org/25/2/6.html</td>\n",
       "    </tr>\n",
       "    <tr>\n",
       "      <th>3</th>\n",
       "      <td>A Bad Barrel Spoils a Good Apple: How Uncertai...</td>\n",
       "      <td>Carlos A. de Matos Fernandes, Andreas Flache, ...</td>\n",
       "      <td>Cooperation, Meritocratic Matching, Informatio...</td>\n",
       "      <td>Meritocratic matching solves the problem of co...</td>\n",
       "      <td>https://www.jasss.org/25/1/6.html</td>\n",
       "    </tr>\n",
       "    <tr>\n",
       "      <th>4</th>\n",
       "      <td>Sharing Risk Under Heterogeneity: Exploring Pa...</td>\n",
       "      <td>Eva Vriens and Vincent Buskens</td>\n",
       "      <td>Risk-Sharing, Risk Aversion, Solidarity, Uncer...</td>\n",
       "      <td>Motivated by the emergence of new Peer-to-Peer...</td>\n",
       "      <td>https://www.jasss.org/25/2/5.html</td>\n",
       "    </tr>\n",
       "  </tbody>\n",
       "</table>\n",
       "</div>"
      ],
      "text/plain": [
       "                                               Title  \\\n",
       "0  Particle Swarm Optimization for Calibration in...   \n",
       "1  On the Interplay Among Multiple Factors: Effec...   \n",
       "2  Generation of Synthetic Populations in Social ...   \n",
       "3  A Bad Barrel Spoils a Good Apple: How Uncertai...   \n",
       "4  Sharing Risk Under Heterogeneity: Exploring Pa...   \n",
       "\n",
       "                                              Writer  \\\n",
       "0  Alexander Michels, Jeon-Young Kang and Shaowen...   \n",
       "1  Woi Sok Oh, Alvaro Carmona-Cabrero, Rafael Muñ...   \n",
       "2  Kevin Chapuis, Patrick Taillandier and Alexis ...   \n",
       "3  Carlos A. de Matos Fernandes, Andreas Flache, ...   \n",
       "4                     Eva Vriens and Vincent Buskens   \n",
       "\n",
       "                                             KeyWord  \\\n",
       "0  Agent-Based Modeling, Particle Swarm Optimizat...   \n",
       "1  Agent-Based Model, Human Migration, Factor Con...   \n",
       "2  Synthetic Population, Agent-Based Simulation M...   \n",
       "3  Cooperation, Meritocratic Matching, Informatio...   \n",
       "4  Risk-Sharing, Risk Aversion, Solidarity, Uncer...   \n",
       "\n",
       "                                            Abstract  \\\n",
       "0                                               None   \n",
       "1  Many researchers have addressed what factors s...   \n",
       "2  With the aim of building realistic model of so...   \n",
       "3  Meritocratic matching solves the problem of co...   \n",
       "4  Motivated by the emergence of new Peer-to-Peer...   \n",
       "\n",
       "                                 URL  \n",
       "0  https://www.jasss.org/25/2/8.html  \n",
       "1  https://www.jasss.org/25/2/7.html  \n",
       "2  https://www.jasss.org/25/2/6.html  \n",
       "3  https://www.jasss.org/25/1/6.html  \n",
       "4  https://www.jasss.org/25/2/5.html  "
      ]
     },
     "execution_count": 5,
     "metadata": {},
     "output_type": "execute_result"
    }
   ],
   "source": [
    "df.head()"
   ]
  },
  {
   "cell_type": "code",
   "execution_count": 6,
   "id": "d8e30b47",
   "metadata": {
    "id": "f02c7635"
   },
   "outputs": [],
   "source": [
    "df = df[['Title', 'Writer', 'KeyWord', 'Abstract']]\n",
    "df.fillna(\"\",inplace=True)"
   ]
  },
  {
   "cell_type": "code",
   "execution_count": 7,
   "id": "99bcb78b",
   "metadata": {
    "id": "cdVGDRNcVAhl"
   },
   "outputs": [],
   "source": [
    "tags = df['KeyWord'].values\n",
    "# tags"
   ]
  },
  {
   "cell_type": "code",
   "execution_count": 8,
   "id": "84f2956a",
   "metadata": {
    "id": "jLzmOYvwVI5S"
   },
   "outputs": [],
   "source": [
    "for i in range(len(tags)):\n",
    "    tag_list = []\n",
    "    tag_list = df['KeyWord'][i].split(', ')\n",
    "    for j in range(len(tag_list)):\n",
    "        tag = tag_list[j]\n",
    "        if tag == 'Agent-Based Modelling':\n",
    "            tag = 'Agent Based Modeling'\n",
    "        if '-' in tag:\n",
    "            tag = tag.replace('-', ' ')\n",
    "        tag_list[j] = tag\n",
    "    df['KeyWord'][i] = ', '.join(tag_list)"
   ]
  },
  {
   "cell_type": "code",
   "execution_count": 9,
   "id": "d497a403",
   "metadata": {
    "colab": {
     "base_uri": "https://localhost:8080/"
    },
    "id": "iNxaIKHkW3Lq",
    "outputId": "b472aba2-97aa-4bd2-9ce5-fe052ab62c5f"
   },
   "outputs": [
    {
     "data": {
      "text/plain": [
       "0       Agent Based Modeling, Particle Swarm Optimizat...\n",
       "1       Agent Based Model, Human Migration, Factor Con...\n",
       "2       Synthetic Population, Agent Based Simulation M...\n",
       "3       Cooperation, Meritocratic Matching, Informatio...\n",
       "4       Risk Sharing, Risk Aversion, Solidarity, Uncer...\n",
       "                              ...                        \n",
       "1209       Multiagent system, collective belief, ideology\n",
       "1210    cooperation, evolutionary models, artificial a...\n",
       "1211    qualitative modeling, qualitative reasoning, d...\n",
       "1212        cooperation, altruism, rationality, cognition\n",
       "1213                                                     \n",
       "Name: KeyWord, Length: 1214, dtype: object"
      ]
     },
     "execution_count": 9,
     "metadata": {},
     "output_type": "execute_result"
    }
   ],
   "source": [
    "df['KeyWord']"
   ]
  },
  {
   "cell_type": "code",
   "execution_count": 8,
   "id": "d10a6127",
   "metadata": {
    "id": "oaYNRDq90sQt"
   },
   "outputs": [],
   "source": [
    "# df['Abstract'].values"
   ]
  },
  {
   "cell_type": "code",
   "execution_count": 9,
   "id": "cf2b2e74",
   "metadata": {
    "id": "Tp3eGJ5-zr1R"
   },
   "outputs": [],
   "source": [
    "# absts = df['Abstract'].values\n",
    "# for i in range(len(absts)):\n",
    "#   abst_list = []\n",
    "#   abst_list = df['Abstract'][i].split(', ')\n",
    "#   for j in range(len(abst_list)):\n",
    "#       abst = abst_list[j]\n",
    "#       if 'Agent-' in abst:\n",
    "#         abst = abst.replace('-', ' ')\n",
    "#       abst_list[j] = abst\n",
    "#   df['Abstract'][i] = ', '.join(abst_list)"
   ]
  },
  {
   "cell_type": "code",
   "execution_count": 10,
   "id": "7c60257e",
   "metadata": {
    "id": "p3AhCOwP0N11"
   },
   "outputs": [],
   "source": [
    "# df['Abstract']"
   ]
  },
  {
   "cell_type": "code",
   "execution_count": 10,
   "id": "c6994f21",
   "metadata": {
    "colab": {
     "base_uri": "https://localhost:8080/"
    },
    "id": "KOC-Kj8M4Gz6",
    "outputId": "ec10d767-5428-4540-858c-ac932c96a5d0"
   },
   "outputs": [
    {
     "data": {
      "text/plain": [
       "0       Particle Swarm Optimization for Calibration in...\n",
       "1       On the Interplay Among Multiple Factors: Effec...\n",
       "2       Generation of Synthetic Populations in Social ...\n",
       "3       A Bad Barrel Spoils a Good Apple: How Uncertai...\n",
       "4       Sharing Risk Under Heterogeneity: Exploring Pa...\n",
       "                              ...                        \n",
       "1209                      Simulating Collective Misbelief\n",
       "1210                    Social Order in Artificial Worlds\n",
       "1211    Qualitative modeling and simulation of socio-e...\n",
       "1212                      Through The Minds Of The Agents\n",
       "1213                                                     \n",
       "Name: Title, Length: 1214, dtype: object"
      ]
     },
     "execution_count": 10,
     "metadata": {},
     "output_type": "execute_result"
    }
   ],
   "source": [
    "df['Title']"
   ]
  },
  {
   "cell_type": "code",
   "execution_count": 12,
   "id": "dbcbb94e",
   "metadata": {
    "id": "KqaK6Fs53psA"
   },
   "outputs": [],
   "source": [
    "# titles = df['Title'].values\n",
    "# for i in range(len(titles)):\n",
    "#   title_list = []\n",
    "#   title_list = df['Title'][i].split(', ')\n",
    "#   for j in range(len(title_list)):\n",
    "#       title = title_list[j]\n",
    "#       if '-' in title:\n",
    "#         title = title.replace('-', ' ')\n",
    "#       title_list[j] = title\n",
    "#   df['Title'][i] = ', '.join(title_list)"
   ]
  },
  {
   "cell_type": "code",
   "execution_count": 11,
   "id": "1734ba22",
   "metadata": {
    "colab": {
     "base_uri": "https://localhost:8080/"
    },
    "id": "xPsQn72Z35vg",
    "outputId": "9179fdb9-400c-43ca-a73f-abe7f063cc5c"
   },
   "outputs": [
    {
     "data": {
      "text/plain": [
       "0       Particle Swarm Optimization for Calibration in...\n",
       "1       On the Interplay Among Multiple Factors: Effec...\n",
       "2       Generation of Synthetic Populations in Social ...\n",
       "3       A Bad Barrel Spoils a Good Apple: How Uncertai...\n",
       "4       Sharing Risk Under Heterogeneity: Exploring Pa...\n",
       "                              ...                        \n",
       "1209                      Simulating Collective Misbelief\n",
       "1210                    Social Order in Artificial Worlds\n",
       "1211    Qualitative modeling and simulation of socio-e...\n",
       "1212                      Through The Minds Of The Agents\n",
       "1213                                                     \n",
       "Name: Title, Length: 1214, dtype: object"
      ]
     },
     "execution_count": 11,
     "metadata": {},
     "output_type": "execute_result"
    }
   ],
   "source": [
    "df['Title']"
   ]
  },
  {
   "cell_type": "code",
   "execution_count": 12,
   "id": "2225442c",
   "metadata": {
    "colab": {
     "base_uri": "https://localhost:8080/"
    },
    "id": "59565caa",
    "outputId": "b0c12503-4fd0-4b93-a5d8-4583e8b3eef1",
    "scrolled": true
   },
   "outputs": [
    {
     "name": "stdout",
     "output_type": "stream",
     "text": [
      "<class 'pandas.core.frame.DataFrame'>\n",
      "Int64Index: 1214 entries, 0 to 1213\n",
      "Data columns (total 2 columns):\n",
      " #   Column       Non-Null Count  Dtype \n",
      "---  ------       --------------  ----- \n",
      " 0   Title        1214 non-null   object\n",
      " 1   Description  1214 non-null   object\n",
      "dtypes: object(2)\n",
      "memory usage: 28.5+ KB\n"
     ]
    }
   ],
   "source": [
    "df['Description'] = df['Abstract'] + ' ' + df['KeyWord'] + ' ' + df['Title']\n",
    "df = df[['Title','Description']]\n",
    "df.dropna(inplace=True)\n",
    "df.info()"
   ]
  },
  {
   "cell_type": "code",
   "execution_count": 13,
   "id": "c90ee7fb",
   "metadata": {
    "colab": {
     "base_uri": "https://localhost:8080/",
     "height": 206
    },
    "id": "2a31860a",
    "outputId": "e527ef85-84fc-4fa3-e931-a38f27c74a5e",
    "scrolled": false
   },
   "outputs": [
    {
     "data": {
      "text/html": [
       "<div>\n",
       "<style scoped>\n",
       "    .dataframe tbody tr th:only-of-type {\n",
       "        vertical-align: middle;\n",
       "    }\n",
       "\n",
       "    .dataframe tbody tr th {\n",
       "        vertical-align: top;\n",
       "    }\n",
       "\n",
       "    .dataframe thead th {\n",
       "        text-align: right;\n",
       "    }\n",
       "</style>\n",
       "<table border=\"1\" class=\"dataframe\">\n",
       "  <thead>\n",
       "    <tr style=\"text-align: right;\">\n",
       "      <th></th>\n",
       "      <th>Title</th>\n",
       "      <th>Description</th>\n",
       "    </tr>\n",
       "  </thead>\n",
       "  <tbody>\n",
       "    <tr>\n",
       "      <th>0</th>\n",
       "      <td>Particle Swarm Optimization for Calibration in...</td>\n",
       "      <td>Agent Based Modeling, Particle Swarm Optimiza...</td>\n",
       "    </tr>\n",
       "    <tr>\n",
       "      <th>1</th>\n",
       "      <td>On the Interplay Among Multiple Factors: Effec...</td>\n",
       "      <td>Many researchers have addressed what factors s...</td>\n",
       "    </tr>\n",
       "    <tr>\n",
       "      <th>2</th>\n",
       "      <td>Generation of Synthetic Populations in Social ...</td>\n",
       "      <td>With the aim of building realistic model of so...</td>\n",
       "    </tr>\n",
       "    <tr>\n",
       "      <th>3</th>\n",
       "      <td>A Bad Barrel Spoils a Good Apple: How Uncertai...</td>\n",
       "      <td>Meritocratic matching solves the problem of co...</td>\n",
       "    </tr>\n",
       "    <tr>\n",
       "      <th>4</th>\n",
       "      <td>Sharing Risk Under Heterogeneity: Exploring Pa...</td>\n",
       "      <td>Motivated by the emergence of new Peer-to-Peer...</td>\n",
       "    </tr>\n",
       "  </tbody>\n",
       "</table>\n",
       "</div>"
      ],
      "text/plain": [
       "                                               Title  \\\n",
       "0  Particle Swarm Optimization for Calibration in...   \n",
       "1  On the Interplay Among Multiple Factors: Effec...   \n",
       "2  Generation of Synthetic Populations in Social ...   \n",
       "3  A Bad Barrel Spoils a Good Apple: How Uncertai...   \n",
       "4  Sharing Risk Under Heterogeneity: Exploring Pa...   \n",
       "\n",
       "                                         Description  \n",
       "0   Agent Based Modeling, Particle Swarm Optimiza...  \n",
       "1  Many researchers have addressed what factors s...  \n",
       "2  With the aim of building realistic model of so...  \n",
       "3  Meritocratic matching solves the problem of co...  \n",
       "4  Motivated by the emergence of new Peer-to-Peer...  "
      ]
     },
     "execution_count": 13,
     "metadata": {},
     "output_type": "execute_result"
    }
   ],
   "source": [
    "df.head()"
   ]
  },
  {
   "cell_type": "code",
   "execution_count": 14,
   "id": "f668d887",
   "metadata": {},
   "outputs": [],
   "source": [
    "df.to_csv('./jasss_paper_v1.csv', index=False)"
   ]
  },
  {
   "cell_type": "code",
   "execution_count": null,
   "id": "cb2d8008",
   "metadata": {
    "collapsed": true
   },
   "outputs": [],
   "source": []
  },
  {
   "cell_type": "markdown",
   "id": "6903c49c",
   "metadata": {
    "id": "e75363bb"
   },
   "source": [
    "# Cluster Similar Papers"
   ]
  },
  {
   "cell_type": "markdown",
   "id": "aeea3991",
   "metadata": {
    "id": "dfb4cb7d"
   },
   "source": [
    "How to cluster text documents:\n",
    "- Text pre-processing\n",
    "- Feature Engineering\n",
    "- Clustering Using KMeans\n",
    "- Find Optimal Value for K\n",
    "- Prepare Paper Clusters"
   ]
  },
  {
   "cell_type": "markdown",
   "id": "025e4e80",
   "metadata": {
    "id": "2e99186d"
   },
   "source": [
    "## Text pre-processing"
   ]
  },
  {
   "cell_type": "code",
   "execution_count": 16,
   "id": "c2292da9",
   "metadata": {
    "id": "7e78a115"
   },
   "outputs": [],
   "source": [
    "import nltk\n",
    "import re\n",
    "import numpy as np\n",
    "from nltk.stem.porter import PorterStemmer\n",
    "from nltk.stem import WordNetLemmatizer"
   ]
  },
  {
   "cell_type": "code",
   "execution_count": 17,
   "id": "31e964f4",
   "metadata": {
    "id": "75be5d6b"
   },
   "outputs": [],
   "source": [
    "stop_words = nltk.corpus.stopwords.words('english')"
   ]
  },
  {
   "cell_type": "markdown",
   "id": "62e6827e",
   "metadata": {
    "id": "-ZR2DF5P2euT"
   },
   "source": [
    "数据预处理要将文本中的‘-’替换为‘ ’"
   ]
  },
  {
   "cell_type": "code",
   "execution_count": 18,
   "id": "1986b7b8",
   "metadata": {
    "id": "8082ac6c"
   },
   "outputs": [],
   "source": [
    "def normalize_document(doc):\n",
    "    doc = re.sub(r'[^a-zA-Z0-9\\s]', '', doc, re.I|re.A)\n",
    "    doc = doc.lower()\n",
    "    doc = doc.strip()\n",
    "    tokens = nltk.word_tokenize(doc)\n",
    "    tokens_tags = nltk.pos_tag(tokens)\n",
    "    wordnet_lemmatizer = WordNetLemmatizer()\n",
    "    lemmatized_tokens = []\n",
    "    for token, tag in tokens_tags:\n",
    "        if tag in ['RBS','RBR', 'RB']:\n",
    "            lemmatized_tokens.append(wordnet_lemmatizer.lemmatize(token, pos='r'))\n",
    "        elif tag in ['JJ','JJS','JJR']:\n",
    "            lemmatized_tokens.append(wordnet_lemmatizer.lemmatize(token, pos='a'))\n",
    "        elif tag in ['VB','VBP','VBZ','VBD','VBN','VBG']:\n",
    "            lemmatized_tokens.append(wordnet_lemmatizer.lemmatize(token, pos='v'))\n",
    "        elif tag in ['NN','NNS','NNP','NNPS']:\n",
    "            lemmatized_tokens.append(wordnet_lemmatizer.lemmatize(token, pos='n'))\n",
    "        else:\n",
    "            lemmatized_tokens.append(wordnet_lemmatizer.lemmatize(token))\n",
    "    filtered_tokens = [token for token in lemmatized_tokens if token not in stop_words]\n",
    "    doc = ' '.join(filtered_tokens)\n",
    "    return doc"
   ]
  },
  {
   "cell_type": "code",
   "execution_count": 19,
   "id": "7a622b6b",
   "metadata": {
    "id": "9a95b223"
   },
   "outputs": [],
   "source": [
    "normalize_corpus = np.vectorize(normalize_document)\n",
    "norm_corpus = normalize_corpus(df['Description'].values)"
   ]
  },
  {
   "cell_type": "code",
   "execution_count": 20,
   "id": "461433dc",
   "metadata": {
    "colab": {
     "base_uri": "https://localhost:8080/"
    },
    "id": "183e3157",
    "outputId": "f85ab66d-25f3-43f2-cc65-1e528cbb2816"
   },
   "outputs": [
    {
     "data": {
      "text/plain": [
       "776"
      ]
     },
     "execution_count": 20,
     "metadata": {},
     "output_type": "execute_result"
    }
   ],
   "source": [
    "len(norm_corpus)"
   ]
  },
  {
   "cell_type": "code",
   "execution_count": 21,
   "id": "8772ce93",
   "metadata": {
    "id": "LQZVbGRVBfzB"
   },
   "outputs": [],
   "source": [
    "for i in range(len(norm_corpus)):\n",
    "    sentence = norm_corpus[i]\n",
    "    if 'agentbased model' in sentence:\n",
    "        sentence = sentence.replace('agentbased model', 'abm')\n",
    "    if 'agent base model' in sentence:\n",
    "        sentence = sentence.replace('agent base model', 'abm')\n",
    "    if 'abms' in sentence:\n",
    "        sentence = sentence.replace('abms', 'abm')\n",
    "    if 'agentbasedmodels' in sentence:\n",
    "        sentence = sentence.replace('agentbasedmodels', 'abm')\n",
    "    if 'agentbased' in sentence:\n",
    "        sentence = sentence.replace('agentbased', 'abm')\n",
    "    if 'agent model' in sentence:\n",
    "        sentence = sentence.replace('agent model', 'abm')\n",
    "    if 'agent based model' in sentence:\n",
    "        sentence = sentence.replace('agent based model', 'abm')\n",
    "\n",
    "    norm_corpus[i] = sentence"
   ]
  },
  {
   "cell_type": "code",
   "execution_count": 22,
   "id": "0092bf6e",
   "metadata": {
    "colab": {
     "base_uri": "https://localhost:8080/",
     "height": 178
    },
    "id": "852c2b2a",
    "outputId": "4064618f-99dd-424a-a5e3-537e8e6bf3c7"
   },
   "outputs": [
    {
     "data": {
      "application/vnd.google.colaboratory.intrinsic+json": {
       "type": "string"
      },
      "text/plain": [
       "'abm abm find across number diverse application area range simulate consumer behaviour infectious disease model part popularity due ability simulate individual behaviour decision space time however whilst plentiful example within academic literature model begin make impact within policy area whilst framework netlogo make creation abm relatively easy number key methodological issue include quantification uncertainty remain paper draw stateoftheart approach field uncertainty quantification model optimisation describe novel framework calibration abm use history matching approximate bayesian computation utility framework demonstrate three example model increase complexity sugarscape illustrate approach toy example ii model movement bird explore efficacy framework compare alternative calibration approach iii risc model farmer decision make demonstrate value real application result highlight efficiency accuracy approach use calibrate abm method readily apply local nationalscale abm link creation tailoring key policy decision calibrate abm use uncertainty quantification method'"
      ]
     },
     "execution_count": 22,
     "metadata": {},
     "output_type": "execute_result"
    }
   ],
   "source": [
    "norm_corpus[6]"
   ]
  },
  {
   "cell_type": "code",
   "execution_count": 23,
   "id": "6cc26f46",
   "metadata": {
    "colab": {
     "base_uri": "https://localhost:8080/",
     "height": 178
    },
    "id": "fe54691b",
    "outputId": "ed95338b-1c76-48f9-dc13-e6a958de803d"
   },
   "outputs": [
    {
     "data": {
      "application/vnd.google.colaboratory.intrinsic+json": {
       "type": "string"
      },
      "text/plain": [
       "'Agent-based models (ABMs) can be found across a number of diverse application areas ranging from simulating consumer behaviour to infectious disease modelling. Part of their popularity is due to their ability to simulate individual behaviours and decisions over space and time. However, whilst there are plentiful examples within the academic literature, these models are only beginning to make an impact within policy areas. Whilst frameworks such as NetLogo make the creation of ABMs relatively easy, a number of key methodological issues, including the quantification of uncertainty, remain. In this paper we draw on state-of-the-art approaches from the fields of uncertainty quantification and model optimisation to describe a novel framework for the calibration of ABMs using History Matching and Approximate Bayesian Computation. The utility of the framework is demonstrated on three example models of increasing complexity: (i) Sugarscape to illustrate the approach on a toy example; (ii) a model of the movement of birds to explore the efficacy of our framework and compare it to alternative calibration approaches and; (iii) the RISC model of farmer decision making to demonstrate its value in a real application. The results highlight the efficiency and accuracy with which this approach can be used to calibrate ABMs. This method can readily be applied to local or national-scale ABMs, such as those linked to the creation or tailoring of key policy decisions. Calibrating Agent-Based Models Using Uncertainty Quantification Methods'"
      ]
     },
     "execution_count": 23,
     "metadata": {},
     "output_type": "execute_result"
    }
   ],
   "source": [
    "df['Description'].values[6]"
   ]
  },
  {
   "cell_type": "markdown",
   "id": "0ad4e858",
   "metadata": {
    "id": "8ca46822"
   },
   "source": [
    "## Token Vectorize"
   ]
  },
  {
   "cell_type": "code",
   "execution_count": 24,
   "id": "3a32c6ac",
   "metadata": {
    "id": "0cf4e2ff"
   },
   "outputs": [],
   "source": [
    "from sklearn.feature_extraction.text import CountVectorizer"
   ]
  },
  {
   "cell_type": "code",
   "execution_count": 25,
   "id": "b6641dd7",
   "metadata": {
    "colab": {
     "base_uri": "https://localhost:8080/"
    },
    "id": "9afd2bd2",
    "outputId": "c7f69f28-0f39-4e8d-8278-735e8b840ffd"
   },
   "outputs": [
    {
     "data": {
      "text/plain": [
       "179"
      ]
     },
     "execution_count": 25,
     "metadata": {},
     "output_type": "execute_result"
    }
   ],
   "source": [
    "len(stop_words)"
   ]
  },
  {
   "cell_type": "code",
   "execution_count": 26,
   "id": "e2b138a6",
   "metadata": {
    "colab": {
     "base_uri": "https://localhost:8080/"
    },
    "id": "821305e1",
    "outputId": "fd9ce5ac-246d-4fb3-bbb7-316342e6ed64"
   },
   "outputs": [
    {
     "data": {
      "text/plain": [
       "(776, 15)"
      ]
     },
     "execution_count": 26,
     "metadata": {},
     "output_type": "execute_result"
    }
   ],
   "source": [
    "# Token Vectorize\n",
    "cv = CountVectorizer(ngram_range=(1,2), min_df=90, max_df=0.9, stop_words=stop_words)\n",
    "cv_matrix = cv.fit_transform(norm_corpus)\n",
    "cv_matrix.shape"
   ]
  },
  {
   "cell_type": "markdown",
   "id": "14ba9f67",
   "metadata": {
    "id": "dab479a8"
   },
   "source": [
    "## Extract TF-IDF Feature"
   ]
  },
  {
   "cell_type": "code",
   "execution_count": 27,
   "id": "cf39081d",
   "metadata": {
    "id": "6574af34"
   },
   "outputs": [],
   "source": [
    "from sklearn.feature_extraction.text import TfidfTransformer"
   ]
  },
  {
   "cell_type": "code",
   "execution_count": 28,
   "id": "20997d93",
   "metadata": {
    "id": "5f6c82a3"
   },
   "outputs": [],
   "source": [
    "transformer = TfidfTransformer()\n",
    "tfidf = transformer.fit_transform(cv_matrix)\n",
    "tfidf_matrix = tfidf.toarray()"
   ]
  },
  {
   "cell_type": "markdown",
   "id": "cdc44ff4",
   "metadata": {
    "id": "d058f242"
   },
   "source": [
    "## TSNE Dimension Reduction for Plotting"
   ]
  },
  {
   "cell_type": "code",
   "execution_count": 29,
   "id": "30228443",
   "metadata": {
    "id": "f7628d08"
   },
   "outputs": [],
   "source": [
    "from sklearn import manifold"
   ]
  },
  {
   "cell_type": "code",
   "execution_count": 30,
   "id": "41a36eaf",
   "metadata": {
    "colab": {
     "base_uri": "https://localhost:8080/"
    },
    "id": "c0dd4ffa",
    "outputId": "f8ff6aed-6cbf-4787-e7a2-a9df0e980a14"
   },
   "outputs": [
    {
     "name": "stderr",
     "output_type": "stream",
     "text": [
      "/usr/local/lib/python3.7/dist-packages/sklearn/manifold/_t_sne.py:986: FutureWarning: The PCA initialization in TSNE will change to have the standard deviation of PC1 equal to 1e-4 in 1.2. This will ensure better convergence.\n",
      "  FutureWarning,\n"
     ]
    }
   ],
   "source": [
    "tsne = manifold.TSNE(n_components=2, perplexity=20.0, learning_rate=200.0, n_iter=1000, init='pca', random_state=1)\n",
    "tsne_tfidf_matrix = tsne.fit_transform(tfidf_matrix)"
   ]
  },
  {
   "cell_type": "code",
   "execution_count": 31,
   "id": "5d0e674f",
   "metadata": {
    "colab": {
     "base_uri": "https://localhost:8080/"
    },
    "id": "25d73783",
    "outputId": "55ebb384-3f45-4414-b496-3aff4eb54c99"
   },
   "outputs": [
    {
     "data": {
      "text/plain": [
       "[21.315151, -2.875083, -5.550742]"
      ]
     },
     "execution_count": 31,
     "metadata": {},
     "output_type": "execute_result"
    }
   ],
   "source": [
    "[row[0] for row in tsne_tfidf_matrix[0:3]]"
   ]
  },
  {
   "cell_type": "markdown",
   "id": "49a990d2",
   "metadata": {
    "id": "3b8711bd"
   },
   "source": [
    "## Cluster Papers using K-Means"
   ]
  },
  {
   "cell_type": "code",
   "execution_count": 32,
   "id": "391dbbbf",
   "metadata": {
    "id": "1a0f8940"
   },
   "outputs": [],
   "source": [
    "from sklearn.cluster import KMeans"
   ]
  },
  {
   "cell_type": "code",
   "execution_count": 33,
   "id": "4263a1fc",
   "metadata": {
    "id": "be9e1385"
   },
   "outputs": [],
   "source": [
    "MIN_CLUSTERS = 8\n",
    "MAX_CLUSTERS = 31"
   ]
  },
  {
   "cell_type": "markdown",
   "id": "e9d96ca3",
   "metadata": {
    "id": "6d5db764"
   },
   "source": [
    "## Determine the number of clusters"
   ]
  },
  {
   "cell_type": "markdown",
   "id": "f7c0d4dc",
   "metadata": {
    "id": "5959f508"
   },
   "source": [
    "### Method 1: Cross Validation + Silehouette Coefficient"
   ]
  },
  {
   "cell_type": "code",
   "execution_count": 34,
   "id": "76a66ad9",
   "metadata": {
    "id": "da207eec"
   },
   "outputs": [],
   "source": [
    "from sklearn.model_selection import KFold\n",
    "from sklearn import metrics\n",
    "import matplotlib.pyplot as plt"
   ]
  },
  {
   "cell_type": "code",
   "execution_count": 35,
   "id": "7c6b23af",
   "metadata": {
    "id": "bc6f0902"
   },
   "outputs": [],
   "source": [
    "def cross_validation_k(data, num_clusters, folds=5):\n",
    "    km = KMeans(n_clusters=num_clusters, max_iter=10000, n_init=50, random_state=10)\n",
    "    kf = KFold(n_splits=folds)\n",
    "    train_sil = 0\n",
    "    test_sil = 0\n",
    "    for train, test in kf.split(data):\n",
    "        test_data = data[test,:]\n",
    "        train_data = data[train,:]\n",
    "        train_model = km.fit(train_data)\n",
    "        train_labels = train_model.labels_\n",
    "        test_labels = train_model.predict(test_data)\n",
    "        \n",
    "        test_silhouette = metrics.silhouette_score(test_data, test_labels, metric='euclidean')\n",
    "        train_silhouette = metrics.silhouette_score(train_data, train_labels, metric='euclidean')\n",
    "        \n",
    "        train_sil += train_silhouette\n",
    "        test_sil += test_silhouette\n",
    "\n",
    "    train_mean_sil = train_sil/folds\n",
    "    test_mean_sil = test_sil/folds\n",
    "    print(f'Train mean silhouette: {train_mean_sil}')\n",
    "    print(f'Testing mean silhouette: {test_mean_sil}')\n",
    "    print()\n",
    "    return train_mean_sil, test_mean_sil"
   ]
  },
  {
   "cell_type": "code",
   "execution_count": 36,
   "id": "709143ba",
   "metadata": {
    "colab": {
     "base_uri": "https://localhost:8080/"
    },
    "id": "5c1884e1",
    "outputId": "b07207b5-2d10-4ae4-ae42-ff8de08557c9"
   },
   "outputs": [
    {
     "name": "stdout",
     "output_type": "stream",
     "text": [
      "Cluster Number is: 8\n",
      "Train mean silhouette: 0.5166048288345337\n",
      "Testing mean silhouette: 0.5190919399261474\n",
      "\n",
      "Cluster Number is: 9\n",
      "Train mean silhouette: 0.52948477268219\n",
      "Testing mean silhouette: 0.530044823884964\n",
      "\n",
      "Cluster Number is: 10\n",
      "Train mean silhouette: 0.5396032452583313\n",
      "Testing mean silhouette: 0.5302940964698791\n",
      "\n",
      "Cluster Number is: 11\n",
      "Train mean silhouette: 0.5569637775421142\n",
      "Testing mean silhouette: 0.5432005643844604\n",
      "\n",
      "Cluster Number is: 12\n",
      "Train mean silhouette: 0.5694325208663941\n",
      "Testing mean silhouette: 0.561621755361557\n",
      "\n",
      "Cluster Number is: 13\n",
      "Train mean silhouette: 0.5825379729270935\n",
      "Testing mean silhouette: 0.5860993921756744\n",
      "\n",
      "Cluster Number is: 14\n",
      "Train mean silhouette: 0.594941258430481\n",
      "Testing mean silhouette: 0.5799714803695679\n",
      "\n",
      "Cluster Number is: 15\n",
      "Train mean silhouette: 0.6021470427513123\n",
      "Testing mean silhouette: 0.5887897551059723\n",
      "\n",
      "Cluster Number is: 16\n",
      "Train mean silhouette: 0.5821973204612731\n",
      "Testing mean silhouette: 0.5961322724819184\n",
      "\n",
      "Cluster Number is: 17\n",
      "Train mean silhouette: 0.5715638995170593\n",
      "Testing mean silhouette: 0.5828457176685333\n",
      "\n",
      "Cluster Number is: 18\n",
      "Train mean silhouette: 0.5528085470199585\n",
      "Testing mean silhouette: 0.5510527849197387\n",
      "\n",
      "Cluster Number is: 19\n",
      "Train mean silhouette: 0.5546565890312195\n",
      "Testing mean silhouette: 0.5511550664901733\n",
      "\n",
      "Cluster Number is: 20\n",
      "Train mean silhouette: 0.5533494830131531\n",
      "Testing mean silhouette: 0.5440251529216766\n",
      "\n",
      "Cluster Number is: 21\n",
      "Train mean silhouette: 0.5436677098274231\n",
      "Testing mean silhouette: 0.524603796005249\n",
      "\n",
      "Cluster Number is: 22\n",
      "Train mean silhouette: 0.5264423012733459\n",
      "Testing mean silhouette: 0.5058545529842376\n",
      "\n",
      "Cluster Number is: 23\n",
      "Train mean silhouette: 0.5273996233940125\n",
      "Testing mean silhouette: 0.5082276105880738\n",
      "\n",
      "Cluster Number is: 24\n",
      "Train mean silhouette: 0.5302457809448242\n",
      "Testing mean silhouette: 0.5220955789089203\n",
      "\n",
      "Cluster Number is: 25\n",
      "Train mean silhouette: 0.5297943711280823\n",
      "Testing mean silhouette: 0.5185984432697296\n",
      "\n",
      "Cluster Number is: 26\n",
      "Train mean silhouette: 0.532807219028473\n",
      "Testing mean silhouette: 0.5066445589065551\n",
      "\n",
      "Cluster Number is: 27\n",
      "Train mean silhouette: 0.5313459277153015\n",
      "Testing mean silhouette: 0.5087118923664093\n",
      "\n",
      "Cluster Number is: 28\n",
      "Train mean silhouette: 0.5299306273460388\n",
      "Testing mean silhouette: 0.501695454120636\n",
      "\n",
      "Cluster Number is: 29\n",
      "Train mean silhouette: 0.5320927262306213\n",
      "Testing mean silhouette: 0.48837871551513673\n",
      "\n",
      "Cluster Number is: 30\n",
      "Train mean silhouette: 0.5250702381134034\n",
      "Testing mean silhouette: 0.4877390921115875\n",
      "\n",
      "Cluster Number is: 31\n",
      "Train mean silhouette: 0.5300971031188965\n",
      "Testing mean silhouette: 0.4884474754333496\n",
      "\n"
     ]
    }
   ],
   "source": [
    "mean_silhouette = [[], []]\n",
    "x = []\n",
    "for NUM_CLUSTERS in range(MIN_CLUSTERS, MAX_CLUSTERS+1):\n",
    "    x.append(NUM_CLUSTERS)\n",
    "    print(f'Cluster Number is: {NUM_CLUSTERS}')\n",
    "    train_mean_sil, test_mean_sil = cross_validation_k(tsne_tfidf_matrix, NUM_CLUSTERS, 5)\n",
    "    mean_silhouette[0].append(train_mean_sil)\n",
    "    mean_silhouette[1].append(test_mean_sil)"
   ]
  },
  {
   "cell_type": "markdown",
   "id": "264c1d06",
   "metadata": {
    "id": "5320884b"
   },
   "source": [
    "### Method 2: Elbow Curve Method"
   ]
  },
  {
   "cell_type": "code",
   "execution_count": 37,
   "id": "2ff97d4e",
   "metadata": {
    "colab": {
     "base_uri": "https://localhost:8080/",
     "height": 295
    },
    "id": "c12f2681",
    "outputId": "0229c574-94d6-4282-dd79-53db7b6f6454"
   },
   "outputs": [
    {
     "data": {
      "image/png": "[encoded data removed]",
      "text/plain": [
       "<Figure size 432x288 with 1 Axes>"
      ]
     },
     "metadata": {
      "needs_background": "light"
     },
     "output_type": "display_data"
    }
   ],
   "source": [
    "sum_of_squared_dis = []\n",
    "for NUM_CLUSTERS in range(MIN_CLUSTERS, MAX_CLUSTERS+1):\n",
    "    kmeans = KMeans(n_clusters=NUM_CLUSTERS)\n",
    "    kmeans.fit(tsne_tfidf_matrix)\n",
    "    sum_of_squared_dis.append(kmeans.inertia_)\n",
    "plt.plot(range(MIN_CLUSTERS, MAX_CLUSTERS+1), sum_of_squared_dis, 'bx-')\n",
    "plt.xlabel('Number of Clusters')\n",
    "plt.ylabel('Sum of squared distances')\n",
    "plt.title('Elbow Curve for Optimial Clustering Number')\n",
    "# plt.show()\n",
    "plt.savefig('elbow.png', dpi=150)"
   ]
  },
  {
   "cell_type": "markdown",
   "id": "ac595ede",
   "metadata": {
    "id": "4c2f6477"
   },
   "source": [
    "The best clustering number could be 5 from this graph."
   ]
  },
  {
   "cell_type": "markdown",
   "id": "30c4d05f",
   "metadata": {
    "id": "1fa37a5d"
   },
   "source": [
    "### Silhouette analysis"
   ]
  },
  {
   "cell_type": "code",
   "execution_count": 38,
   "id": "f9e8c291",
   "metadata": {
    "colab": {
     "base_uri": "https://localhost:8080/",
     "height": 295
    },
    "id": "4c2b3098",
    "outputId": "fdc76fb9-c664-4af7-9713-2ae56a252d6c"
   },
   "outputs": [
    {
     "data": {
      "image/png": "[encoded data removed]",
      "text/plain": [
       "<Figure size 432x288 with 1 Axes>"
      ]
     },
     "metadata": {
      "needs_background": "light"
     },
     "output_type": "display_data"
    }
   ],
   "source": [
    "silhouette_avg = []\n",
    "for NUM_CLUSTERS in range(MIN_CLUSTERS, MAX_CLUSTERS+1):\n",
    "    kmeans = KMeans(n_clusters=NUM_CLUSTERS)\n",
    "    kmeans.fit(tsne_tfidf_matrix)\n",
    "    cluster_labels = kmeans.labels_\n",
    "    \n",
    "    silhouette_avg.append(metrics.silhouette_score(tsne_tfidf_matrix, cluster_labels))\n",
    "    \n",
    "plt.plot(range(MIN_CLUSTERS, MAX_CLUSTERS+1), silhouette_avg, 'bx-')\n",
    "plt.xlabel('Number of Clusters')\n",
    "plt.ylabel('Silhouette Score')\n",
    "plt.title('Silhouette Coefficient Analysis')\n",
    "# plt.show()\n",
    "plt.savefig('elbowsil.png', dpi=150)"
   ]
  },
  {
   "cell_type": "markdown",
   "id": "bc1832c5",
   "metadata": {
    "id": "f4c2eb6f"
   },
   "source": [
    "So combining elbow curve method with silhouette coefficient, we find elbow method is not that accurate and stable."
   ]
  },
  {
   "cell_type": "markdown",
   "id": "55c7a913",
   "metadata": {
    "id": "277a7a08"
   },
   "source": [
    "### Method 3: Rule of Thumb"
   ]
  },
  {
   "cell_type": "code",
   "execution_count": 39,
   "id": "0468d327",
   "metadata": {
    "colab": {
     "base_uri": "https://localhost:8080/"
    },
    "id": "b1f70b72",
    "outputId": "a12cddf6-d87b-4b0c-bd69-73e775e4ab11"
   },
   "outputs": [
    {
     "data": {
      "text/plain": [
       "20"
      ]
     },
     "execution_count": 39,
     "metadata": {},
     "output_type": "execute_result"
    }
   ],
   "source": [
    "NUM_CLUSTERS = round((len(norm_corpus)/2)**0.5)\n",
    "NUM_CLUSTERS"
   ]
  },
  {
   "cell_type": "markdown",
   "id": "7324f23d",
   "metadata": {
    "id": "dafa2325"
   },
   "source": [
    "## Visualize"
   ]
  },
  {
   "cell_type": "code",
   "execution_count": 40,
   "id": "eaa6d769",
   "metadata": {
    "colab": {
     "base_uri": "https://localhost:8080/",
     "height": 295
    },
    "id": "e524dd3f",
    "outputId": "6b85276a-e472-4d79-df9c-a8a7bfee56f9"
   },
   "outputs": [
    {
     "data": {
      "image/png": "[encoded data removed]",
      "text/plain": [
       "<Figure size 432x288 with 1 Axes>"
      ]
     },
     "metadata": {
      "needs_background": "light"
     },
     "output_type": "display_data"
    }
   ],
   "source": [
    "width = 0.4\n",
    "default_x_ticks = range(len(x))\n",
    "plt.bar(np.arange(len(mean_silhouette[0])), mean_silhouette[0], width=width)\n",
    "plt.bar(np.arange(len(mean_silhouette[1]))+width, mean_silhouette[1], width=width)\n",
    "plt.xlabel(\"Number of Clusters\")\n",
    "plt.ylabel(\"Train/Test Mean Silhouette\")\n",
    "plt.title('Silhouette Coefficient')\n",
    "plt.xticks(default_x_ticks, x)\n",
    "# plt.legend(labels=['Train', 'Test'])\n",
    "plt.show()\n",
    "# plt.savefig('silhouette.png', dpi=200)"
   ]
  },
  {
   "cell_type": "code",
   "execution_count": 54,
   "id": "4c5c7eb1",
   "metadata": {
    "id": "1cd38bb7"
   },
   "outputs": [],
   "source": [
    "NUM_CLUSTERS = 15"
   ]
  },
  {
   "cell_type": "code",
   "execution_count": 55,
   "id": "021253c1",
   "metadata": {
    "colab": {
     "base_uri": "https://localhost:8080/",
     "height": 295
    },
    "id": "1f74af90",
    "outputId": "ae603bf9-b8bb-4261-ab04-c6bb61bdd015"
   },
   "outputs": [
    {
     "data": {
      "image/png": "[encoded data removed]",
      "text/plain": [
       "<Figure size 432x288 with 1 Axes>"
      ]
     },
     "metadata": {
      "needs_background": "light"
     },
     "output_type": "display_data"
    }
   ],
   "source": [
    "km_s = KMeans(n_clusters=NUM_CLUSTERS, max_iter=10000, n_init=50, random_state=10)\n",
    "labels = km_s.fit_predict(tfidf)\n",
    "u_labels = np.unique(labels)\n",
    "for i in u_labels:\n",
    "    x = [row[0] for row in tsne_tfidf_matrix[labels == i]]\n",
    "    y = [row[1] for row in tsne_tfidf_matrix[labels == i]]\n",
    "    plt.scatter(x , y, label = 'Cluster ' + str(i+1))\n",
    "plt.legend(bbox_to_anchor=(1.04,1), loc=\"upper left\")\n",
    "plt.xlabel(\"1st feature of document vectors\")\n",
    "plt.ylabel(\"2rd feature of document vectors\")\n",
    "plt.title('Cluster Distribution')\n",
    "# plt.show()\n",
    "plt.savefig('distribition.png', dpi=150)"
   ]
  },
  {
   "cell_type": "code",
   "execution_count": 43,
   "id": "d2baafbb",
   "metadata": {
    "id": "043b2395"
   },
   "outputs": [],
   "source": [
    "from collections import Counter"
   ]
  },
  {
   "cell_type": "code",
   "execution_count": 44,
   "id": "81879b8e",
   "metadata": {
    "colab": {
     "base_uri": "https://localhost:8080/"
    },
    "id": "3acfa62e",
    "outputId": "99b55d70-0659-4e0c-f8f2-31a5ceb1da3b"
   },
   "outputs": [
    {
     "data": {
      "text/plain": [
       "Counter({0: 43,\n",
       "         1: 129,\n",
       "         2: 48,\n",
       "         3: 58,\n",
       "         4: 28,\n",
       "         5: 39,\n",
       "         6: 49,\n",
       "         7: 40,\n",
       "         8: 60,\n",
       "         9: 52,\n",
       "         10: 35,\n",
       "         11: 19,\n",
       "         12: 28,\n",
       "         13: 31,\n",
       "         14: 30,\n",
       "         15: 36,\n",
       "         16: 51})"
      ]
     },
     "execution_count": 44,
     "metadata": {},
     "output_type": "execute_result"
    }
   ],
   "source": [
    "Counter(km_s.labels_)"
   ]
  },
  {
   "cell_type": "code",
   "execution_count": 45,
   "id": "880962b7",
   "metadata": {
    "id": "92fcbdd2"
   },
   "outputs": [],
   "source": [
    "df['KMeans_Cluster'] = km_s.labels_"
   ]
  },
  {
   "cell_type": "code",
   "execution_count": 46,
   "id": "ad76cf00",
   "metadata": {
    "id": "e014955d"
   },
   "outputs": [],
   "source": [
    "paper_clusters = (df[['Title', 'KMeans_Cluster']]\n",
    "                  .sort_values(by=['KMeans_Cluster'])\n",
    "                 .groupby('KMeans_Cluster').head(3))"
   ]
  },
  {
   "cell_type": "code",
   "execution_count": 47,
   "id": "e1410f05",
   "metadata": {
    "colab": {
     "base_uri": "https://localhost:8080/",
     "height": 1000
    },
    "id": "5b90f6b0",
    "outputId": "7293d638-3893-448c-cc3a-c27f73b6492b"
   },
   "outputs": [
    {
     "data": {
      "text/html": [
       "\n",
       "  <div id=\"df-f1e5b22e-d053-4ca0-81b0-82f7c3509d53\">\n",
       "    <div class=\"colab-df-container\">\n",
       "      <div>\n",
       "<style scoped>\n",
       "    .dataframe tbody tr th:only-of-type {\n",
       "        vertical-align: middle;\n",
       "    }\n",
       "\n",
       "    .dataframe tbody tr th {\n",
       "        vertical-align: top;\n",
       "    }\n",
       "\n",
       "    .dataframe thead th {\n",
       "        text-align: right;\n",
       "    }\n",
       "</style>\n",
       "<table border=\"1\" class=\"dataframe\">\n",
       "  <thead>\n",
       "    <tr style=\"text-align: right;\">\n",
       "      <th></th>\n",
       "      <th>Title</th>\n",
       "      <th>KMeans_Cluster</th>\n",
       "    </tr>\n",
       "  </thead>\n",
       "  <tbody>\n",
       "    <tr>\n",
       "      <th>775</th>\n",
       "      <td>Understanding Complex Social Dynamics</td>\n",
       "      <td>0</td>\n",
       "    </tr>\n",
       "    <tr>\n",
       "      <th>642</th>\n",
       "      <td>Spatial Dynamics of Pandemic Influenza in a Ma...</td>\n",
       "      <td>0</td>\n",
       "    </tr>\n",
       "    <tr>\n",
       "      <th>500</th>\n",
       "      <td>Toward Multi-Level, Multi-Theoretical Model Po...</td>\n",
       "      <td>0</td>\n",
       "    </tr>\n",
       "    <tr>\n",
       "      <th>476</th>\n",
       "      <td>Rethinking the Tragedy of the Commons: The Int...</td>\n",
       "      <td>1</td>\n",
       "    </tr>\n",
       "    <tr>\n",
       "      <th>472</th>\n",
       "      <td>JAMSIM: a Microsimulation Modelling Policy Tool</td>\n",
       "      <td>1</td>\n",
       "    </tr>\n",
       "    <tr>\n",
       "      <th>560</th>\n",
       "      <td>Simulation-Based Definitions of Emergence</td>\n",
       "      <td>1</td>\n",
       "    </tr>\n",
       "    <tr>\n",
       "      <th>238</th>\n",
       "      <td>The Interplay Between Conformity and Anticonfo...</td>\n",
       "      <td>2</td>\n",
       "    </tr>\n",
       "    <tr>\n",
       "      <th>674</th>\n",
       "      <td>Social Reputation: a Mechanism for Flexible Se...</td>\n",
       "      <td>2</td>\n",
       "    </tr>\n",
       "    <tr>\n",
       "      <th>675</th>\n",
       "      <td>Socionic Multi-Agent Systems Based on Reflexiv...</td>\n",
       "      <td>2</td>\n",
       "    </tr>\n",
       "    <tr>\n",
       "      <th>768</th>\n",
       "      <td>Seeking Equilibrium Leads to Chaos: Multiple E...</td>\n",
       "      <td>3</td>\n",
       "    </tr>\n",
       "    <tr>\n",
       "      <th>41</th>\n",
       "      <td>An Agent Based Model of a Thinly Traded Land M...</td>\n",
       "      <td>3</td>\n",
       "    </tr>\n",
       "    <tr>\n",
       "      <th>275</th>\n",
       "      <td>Modelling Research Policy: Ex-Ante Evaluation ...</td>\n",
       "      <td>3</td>\n",
       "    </tr>\n",
       "    <tr>\n",
       "      <th>716</th>\n",
       "      <td>An Agent-Based Spatially Explicit Epidemiologi...</td>\n",
       "      <td>4</td>\n",
       "    </tr>\n",
       "    <tr>\n",
       "      <th>567</th>\n",
       "      <td>Sendero: An Extended, Agent-Based Implementati...</td>\n",
       "      <td>4</td>\n",
       "    </tr>\n",
       "    <tr>\n",
       "      <th>566</th>\n",
       "      <td>What Do Agent-Based and Equation-Based Modelli...</td>\n",
       "      <td>4</td>\n",
       "    </tr>\n",
       "    <tr>\n",
       "      <th>163</th>\n",
       "      <td>Simulating  the Impacts of Climate Variability...</td>\n",
       "      <td>5</td>\n",
       "    </tr>\n",
       "    <tr>\n",
       "      <th>676</th>\n",
       "      <td>Construction and Evaluation of Social Agents i...</td>\n",
       "      <td>5</td>\n",
       "    </tr>\n",
       "    <tr>\n",
       "      <th>346</th>\n",
       "      <td>Infrastructure Network Design with a Multi-Mod...</td>\n",
       "      <td>5</td>\n",
       "    </tr>\n",
       "    <tr>\n",
       "      <th>343</th>\n",
       "      <td>A Survey of Agent Platforms</td>\n",
       "      <td>6</td>\n",
       "    </tr>\n",
       "    <tr>\n",
       "      <th>201</th>\n",
       "      <td>Effects of the Interaction Between Ideological...</td>\n",
       "      <td>6</td>\n",
       "    </tr>\n",
       "    <tr>\n",
       "      <th>528</th>\n",
       "      <td>Obligation Norm Identification in Agent Societies</td>\n",
       "      <td>6</td>\n",
       "    </tr>\n",
       "    <tr>\n",
       "      <th>730</th>\n",
       "      <td>Caff&amp;egrave; Nero: the Evaluation of Social Si...</td>\n",
       "      <td>7</td>\n",
       "    </tr>\n",
       "    <tr>\n",
       "      <th>487</th>\n",
       "      <td>A Social Process in Science and Its Content in...</td>\n",
       "      <td>7</td>\n",
       "    </tr>\n",
       "    <tr>\n",
       "      <th>427</th>\n",
       "      <td>MAIA: a Framework for Developing Agent-Based S...</td>\n",
       "      <td>7</td>\n",
       "    </tr>\n",
       "    <tr>\n",
       "      <th>720</th>\n",
       "      <td>Influence of Local Information on Social Simul...</td>\n",
       "      <td>8</td>\n",
       "    </tr>\n",
       "    <tr>\n",
       "      <th>718</th>\n",
       "      <td>How Can Social Networks Ever   Become Complex?...</td>\n",
       "      <td>8</td>\n",
       "    </tr>\n",
       "    <tr>\n",
       "      <th>107</th>\n",
       "      <td>A Double-Layer Network and the Contagion Mecha...</td>\n",
       "      <td>8</td>\n",
       "    </tr>\n",
       "    <tr>\n",
       "      <th>544</th>\n",
       "      <td>Flocking Behaviour: Agent-Based Simulation and...</td>\n",
       "      <td>9</td>\n",
       "    </tr>\n",
       "    <tr>\n",
       "      <th>670</th>\n",
       "      <td>Cellular-Automata Based Qualitative Simulation...</td>\n",
       "      <td>9</td>\n",
       "    </tr>\n",
       "    <tr>\n",
       "      <th>629</th>\n",
       "      <td>Micro- and Macro-Level Validation in Agent-Bas...</td>\n",
       "      <td>9</td>\n",
       "    </tr>\n",
       "    <tr>\n",
       "      <th>376</th>\n",
       "      <td>ICTs, Social Connectivity, and Collective Acti...</td>\n",
       "      <td>10</td>\n",
       "    </tr>\n",
       "    <tr>\n",
       "      <th>208</th>\n",
       "      <td>Friendships and Social Networks in an Individu...</td>\n",
       "      <td>10</td>\n",
       "    </tr>\n",
       "    <tr>\n",
       "      <th>79</th>\n",
       "      <td>Emergence of Small-World Networks in an Overla...</td>\n",
       "      <td>10</td>\n",
       "    </tr>\n",
       "    <tr>\n",
       "      <th>535</th>\n",
       "      <td>When Does a Newcomer Contribute to a Better Pe...</td>\n",
       "      <td>11</td>\n",
       "    </tr>\n",
       "    <tr>\n",
       "      <th>646</th>\n",
       "      <td>Studying Organisational Topology with Simple C...</td>\n",
       "      <td>11</td>\n",
       "    </tr>\n",
       "    <tr>\n",
       "      <th>482</th>\n",
       "      <td>A Virtual Laboratory for the Study of History ...</td>\n",
       "      <td>11</td>\n",
       "    </tr>\n",
       "    <tr>\n",
       "      <th>694</th>\n",
       "      <td>Comparison of Eurovision Song Contest Simulati...</td>\n",
       "      <td>12</td>\n",
       "    </tr>\n",
       "    <tr>\n",
       "      <th>66</th>\n",
       "      <td>Problem Solving: When Groups Perform Better Th...</td>\n",
       "      <td>12</td>\n",
       "    </tr>\n",
       "    <tr>\n",
       "      <th>703</th>\n",
       "      <td>The Emergence of Symbiotic Groups Resulting fr...</td>\n",
       "      <td>12</td>\n",
       "    </tr>\n",
       "    <tr>\n",
       "      <th>576</th>\n",
       "      <td>On the Effects of Skill Upgrading in the Prese...</td>\n",
       "      <td>13</td>\n",
       "    </tr>\n",
       "    <tr>\n",
       "      <th>650</th>\n",
       "      <td>Information Feedback and Mass Media Effects in...</td>\n",
       "      <td>13</td>\n",
       "    </tr>\n",
       "    <tr>\n",
       "      <th>24</th>\n",
       "      <td>Hard Work, Risk-Taking, and Diversity in a Mod...</td>\n",
       "      <td>13</td>\n",
       "    </tr>\n",
       "    <tr>\n",
       "      <th>763</th>\n",
       "      <td>Simulating Organizational Decision-Making Usin...</td>\n",
       "      <td>14</td>\n",
       "    </tr>\n",
       "    <tr>\n",
       "      <th>50</th>\n",
       "      <td>Targeting &lt;i&gt;Your&lt;/i&gt; Preferences: Modelling M...</td>\n",
       "      <td>14</td>\n",
       "    </tr>\n",
       "    <tr>\n",
       "      <th>684</th>\n",
       "      <td>An &amp;quot;All Hands&amp;quot; Call to the Social Sc...</td>\n",
       "      <td>14</td>\n",
       "    </tr>\n",
       "    <tr>\n",
       "      <th>759</th>\n",
       "      <td>VIR-POX: An Agent-Based Analysis of Smallpox P...</td>\n",
       "      <td>15</td>\n",
       "    </tr>\n",
       "    <tr>\n",
       "      <th>533</th>\n",
       "      <td>Agent-Based Modelling: The Next 15 Years</td>\n",
       "      <td>15</td>\n",
       "    </tr>\n",
       "    <tr>\n",
       "      <th>596</th>\n",
       "      <td>A Spatial Agent-Based Model of N-Person Prison...</td>\n",
       "      <td>15</td>\n",
       "    </tr>\n",
       "    <tr>\n",
       "      <th>220</th>\n",
       "      <td>An Empirically Grounded Model of Green Electri...</td>\n",
       "      <td>16</td>\n",
       "    </tr>\n",
       "    <tr>\n",
       "      <th>391</th>\n",
       "      <td>A Further Step Towards Participatory Modelling...</td>\n",
       "      <td>16</td>\n",
       "    </tr>\n",
       "    <tr>\n",
       "      <th>263</th>\n",
       "      <td>The Blessing of Sexuality: Evolution of Altrui...</td>\n",
       "      <td>16</td>\n",
       "    </tr>\n",
       "  </tbody>\n",
       "</table>\n",
       "</div>\n",
       "      <button class=\"colab-df-convert\" onclick=\"convertToInteractive('df-f1e5b22e-d053-4ca0-81b0-82f7c3509d53')\"\n",
       "              title=\"Convert this dataframe to an interactive table.\"\n",
       "              style=\"display:none;\">\n",
       "        \n",
       "  <svg xmlns=\"http://www.w3.org/2000/svg\" height=\"24px\"viewBox=\"0 0 24 24\"\n",
       "       width=\"24px\">\n",
       "    <path d=\"M0 0h24v24H0V0z\" fill=\"none\"/>\n",
       "    <path d=\"M18.56 5.44l.94 2.06.94-2.06 2.06-.94-2.06-.94-.94-2.06-.94 2.06-2.06.94zm-11 1L8.5 8.5l.94-2.06 2.06-.94-2.06-.94L8.5 2.5l-.94 2.06-2.06.94zm10 10l.94 2.06.94-2.06 2.06-.94-2.06-.94-.94-2.06-.94 2.06-2.06.94z\"/><path d=\"M17.41 7.96l-1.37-1.37c-.4-.4-.92-.59-1.43-.59-.52 0-1.04.2-1.43.59L10.3 9.45l-7.72 7.72c-.78.78-.78 2.05 0 2.83L4 21.41c.39.39.9.59 1.41.59.51 0 1.02-.2 1.41-.59l7.78-7.78 2.81-2.81c.8-.78.8-2.07 0-2.86zM5.41 20L4 18.59l7.72-7.72 1.47 1.35L5.41 20z\"/>\n",
       "  </svg>\n",
       "      </button>\n",
       "      \n",
       "  <style>\n",
       "    .colab-df-container {\n",
       "      display:flex;\n",
       "      flex-wrap:wrap;\n",
       "      gap: 12px;\n",
       "    }\n",
       "\n",
       "    .colab-df-convert {\n",
       "      background-color: #E8F0FE;\n",
       "      border: none;\n",
       "      border-radius: 50%;\n",
       "      cursor: pointer;\n",
       "      display: none;\n",
       "      fill: #1967D2;\n",
       "      height: 32px;\n",
       "      padding: 0 0 0 0;\n",
       "      width: 32px;\n",
       "    }\n",
       "\n",
       "    .colab-df-convert:hover {\n",
       "      background-color: #E2EBFA;\n",
       "      box-shadow: 0px 1px 2px rgba(60, 64, 67, 0.3), 0px 1px 3px 1px rgba(60, 64, 67, 0.15);\n",
       "      fill: #174EA6;\n",
       "    }\n",
       "\n",
       "    [theme=dark] .colab-df-convert {\n",
       "      background-color: #3B4455;\n",
       "      fill: #D2E3FC;\n",
       "    }\n",
       "\n",
       "    [theme=dark] .colab-df-convert:hover {\n",
       "      background-color: #434B5C;\n",
       "      box-shadow: 0px 1px 3px 1px rgba(0, 0, 0, 0.15);\n",
       "      filter: drop-shadow(0px 1px 2px rgba(0, 0, 0, 0.3));\n",
       "      fill: #FFFFFF;\n",
       "    }\n",
       "  </style>\n",
       "\n",
       "      <script>\n",
       "        const buttonEl =\n",
       "          document.querySelector('#df-f1e5b22e-d053-4ca0-81b0-82f7c3509d53 button.colab-df-convert');\n",
       "        buttonEl.style.display =\n",
       "          google.colab.kernel.accessAllowed ? 'block' : 'none';\n",
       "\n",
       "        async function convertToInteractive(key) {\n",
       "          const element = document.querySelector('#df-f1e5b22e-d053-4ca0-81b0-82f7c3509d53');\n",
       "          const dataTable =\n",
       "            await google.colab.kernel.invokeFunction('convertToInteractive',\n",
       "                                                     [key], {});\n",
       "          if (!dataTable) return;\n",
       "\n",
       "          const docLinkHtml = 'Like what you see? Visit the ' +\n",
       "            '<a target=\"_blank\" href=https://colab.research.google.com/notebooks/data_table.ipynb>data table notebook</a>'\n",
       "            + ' to learn more about interactive tables.';\n",
       "          element.innerHTML = '';\n",
       "          dataTable['output_type'] = 'display_data';\n",
       "          await google.colab.output.renderOutput(dataTable, element);\n",
       "          const docLink = document.createElement('div');\n",
       "          docLink.innerHTML = docLinkHtml;\n",
       "          element.appendChild(docLink);\n",
       "        }\n",
       "      </script>\n",
       "    </div>\n",
       "  </div>\n",
       "  "
      ],
      "text/plain": [
       "                                                 Title  KMeans_Cluster\n",
       "775              Understanding Complex Social Dynamics               0\n",
       "642  Spatial Dynamics of Pandemic Influenza in a Ma...               0\n",
       "500  Toward Multi-Level, Multi-Theoretical Model Po...               0\n",
       "476  Rethinking the Tragedy of the Commons: The Int...               1\n",
       "472    JAMSIM: a Microsimulation Modelling Policy Tool               1\n",
       "560          Simulation-Based Definitions of Emergence               1\n",
       "238  The Interplay Between Conformity and Anticonfo...               2\n",
       "674  Social Reputation: a Mechanism for Flexible Se...               2\n",
       "675  Socionic Multi-Agent Systems Based on Reflexiv...               2\n",
       "768  Seeking Equilibrium Leads to Chaos: Multiple E...               3\n",
       "41   An Agent Based Model of a Thinly Traded Land M...               3\n",
       "275  Modelling Research Policy: Ex-Ante Evaluation ...               3\n",
       "716  An Agent-Based Spatially Explicit Epidemiologi...               4\n",
       "567  Sendero: An Extended, Agent-Based Implementati...               4\n",
       "566  What Do Agent-Based and Equation-Based Modelli...               4\n",
       "163  Simulating  the Impacts of Climate Variability...               5\n",
       "676  Construction and Evaluation of Social Agents i...               5\n",
       "346  Infrastructure Network Design with a Multi-Mod...               5\n",
       "343                        A Survey of Agent Platforms               6\n",
       "201  Effects of the Interaction Between Ideological...               6\n",
       "528  Obligation Norm Identification in Agent Societies               6\n",
       "730  Caff&egrave; Nero: the Evaluation of Social Si...               7\n",
       "487  A Social Process in Science and Its Content in...               7\n",
       "427  MAIA: a Framework for Developing Agent-Based S...               7\n",
       "720  Influence of Local Information on Social Simul...               8\n",
       "718  How Can Social Networks Ever   Become Complex?...               8\n",
       "107  A Double-Layer Network and the Contagion Mecha...               8\n",
       "544  Flocking Behaviour: Agent-Based Simulation and...               9\n",
       "670  Cellular-Automata Based Qualitative Simulation...               9\n",
       "629  Micro- and Macro-Level Validation in Agent-Bas...               9\n",
       "376  ICTs, Social Connectivity, and Collective Acti...              10\n",
       "208  Friendships and Social Networks in an Individu...              10\n",
       "79   Emergence of Small-World Networks in an Overla...              10\n",
       "535  When Does a Newcomer Contribute to a Better Pe...              11\n",
       "646  Studying Organisational Topology with Simple C...              11\n",
       "482  A Virtual Laboratory for the Study of History ...              11\n",
       "694  Comparison of Eurovision Song Contest Simulati...              12\n",
       "66   Problem Solving: When Groups Perform Better Th...              12\n",
       "703  The Emergence of Symbiotic Groups Resulting fr...              12\n",
       "576  On the Effects of Skill Upgrading in the Prese...              13\n",
       "650  Information Feedback and Mass Media Effects in...              13\n",
       "24   Hard Work, Risk-Taking, and Diversity in a Mod...              13\n",
       "763  Simulating Organizational Decision-Making Usin...              14\n",
       "50   Targeting <i>Your</i> Preferences: Modelling M...              14\n",
       "684  An &quot;All Hands&quot; Call to the Social Sc...              14\n",
       "759  VIR-POX: An Agent-Based Analysis of Smallpox P...              15\n",
       "533           Agent-Based Modelling: The Next 15 Years              15\n",
       "596  A Spatial Agent-Based Model of N-Person Prison...              15\n",
       "220  An Empirically Grounded Model of Green Electri...              16\n",
       "391  A Further Step Towards Participatory Modelling...              16\n",
       "263  The Blessing of Sexuality: Evolution of Altrui...              16"
      ]
     },
     "execution_count": 47,
     "metadata": {},
     "output_type": "execute_result"
    }
   ],
   "source": [
    "paper_clusters"
   ]
  },
  {
   "cell_type": "code",
   "execution_count": 48,
   "id": "23d682ee",
   "metadata": {
    "colab": {
     "base_uri": "https://localhost:8080/",
     "height": 80
    },
    "id": "04c0f7b5",
    "outputId": "10de298a-19ca-4b7d-f525-58ca0b71c6ed"
   },
   "outputs": [
    {
     "data": {
      "text/html": [
       "\n",
       "  <div id=\"df-b70c4a10-83b6-4e12-8d8c-6b7ac440a052\">\n",
       "    <div class=\"colab-df-container\">\n",
       "      <div>\n",
       "<style scoped>\n",
       "    .dataframe tbody tr th:only-of-type {\n",
       "        vertical-align: middle;\n",
       "    }\n",
       "\n",
       "    .dataframe tbody tr th {\n",
       "        vertical-align: top;\n",
       "    }\n",
       "\n",
       "    .dataframe thead th {\n",
       "        text-align: right;\n",
       "    }\n",
       "</style>\n",
       "<table border=\"1\" class=\"dataframe\">\n",
       "  <thead>\n",
       "    <tr style=\"text-align: right;\">\n",
       "      <th></th>\n",
       "      <th>0</th>\n",
       "      <th>1</th>\n",
       "      <th>2</th>\n",
       "      <th>3</th>\n",
       "      <th>4</th>\n",
       "      <th>5</th>\n",
       "      <th>6</th>\n",
       "      <th>7</th>\n",
       "      <th>8</th>\n",
       "      <th>9</th>\n",
       "      <th>10</th>\n",
       "      <th>11</th>\n",
       "      <th>12</th>\n",
       "      <th>13</th>\n",
       "      <th>14</th>\n",
       "    </tr>\n",
       "  </thead>\n",
       "  <tbody>\n",
       "    <tr>\n",
       "      <th>0</th>\n",
       "      <td>abm</td>\n",
       "      <td>agent</td>\n",
       "      <td>approach</td>\n",
       "      <td>dynamic</td>\n",
       "      <td>effect</td>\n",
       "      <td>model</td>\n",
       "      <td>network</td>\n",
       "      <td>paper</td>\n",
       "      <td>result</td>\n",
       "      <td>show</td>\n",
       "      <td>simulation</td>\n",
       "      <td>social</td>\n",
       "      <td>study</td>\n",
       "      <td>system</td>\n",
       "      <td>use</td>\n",
       "    </tr>\n",
       "  </tbody>\n",
       "</table>\n",
       "</div>\n",
       "      <button class=\"colab-df-convert\" onclick=\"convertToInteractive('df-b70c4a10-83b6-4e12-8d8c-6b7ac440a052')\"\n",
       "              title=\"Convert this dataframe to an interactive table.\"\n",
       "              style=\"display:none;\">\n",
       "        \n",
       "  <svg xmlns=\"http://www.w3.org/2000/svg\" height=\"24px\"viewBox=\"0 0 24 24\"\n",
       "       width=\"24px\">\n",
       "    <path d=\"M0 0h24v24H0V0z\" fill=\"none\"/>\n",
       "    <path d=\"M18.56 5.44l.94 2.06.94-2.06 2.06-.94-2.06-.94-.94-2.06-.94 2.06-2.06.94zm-11 1L8.5 8.5l.94-2.06 2.06-.94-2.06-.94L8.5 2.5l-.94 2.06-2.06.94zm10 10l.94 2.06.94-2.06 2.06-.94-2.06-.94-.94-2.06-.94 2.06-2.06.94z\"/><path d=\"M17.41 7.96l-1.37-1.37c-.4-.4-.92-.59-1.43-.59-.52 0-1.04.2-1.43.59L10.3 9.45l-7.72 7.72c-.78.78-.78 2.05 0 2.83L4 21.41c.39.39.9.59 1.41.59.51 0 1.02-.2 1.41-.59l7.78-7.78 2.81-2.81c.8-.78.8-2.07 0-2.86zM5.41 20L4 18.59l7.72-7.72 1.47 1.35L5.41 20z\"/>\n",
       "  </svg>\n",
       "      </button>\n",
       "      \n",
       "  <style>\n",
       "    .colab-df-container {\n",
       "      display:flex;\n",
       "      flex-wrap:wrap;\n",
       "      gap: 12px;\n",
       "    }\n",
       "\n",
       "    .colab-df-convert {\n",
       "      background-color: #E8F0FE;\n",
       "      border: none;\n",
       "      border-radius: 50%;\n",
       "      cursor: pointer;\n",
       "      display: none;\n",
       "      fill: #1967D2;\n",
       "      height: 32px;\n",
       "      padding: 0 0 0 0;\n",
       "      width: 32px;\n",
       "    }\n",
       "\n",
       "    .colab-df-convert:hover {\n",
       "      background-color: #E2EBFA;\n",
       "      box-shadow: 0px 1px 2px rgba(60, 64, 67, 0.3), 0px 1px 3px 1px rgba(60, 64, 67, 0.15);\n",
       "      fill: #174EA6;\n",
       "    }\n",
       "\n",
       "    [theme=dark] .colab-df-convert {\n",
       "      background-color: #3B4455;\n",
       "      fill: #D2E3FC;\n",
       "    }\n",
       "\n",
       "    [theme=dark] .colab-df-convert:hover {\n",
       "      background-color: #434B5C;\n",
       "      box-shadow: 0px 1px 3px 1px rgba(0, 0, 0, 0.15);\n",
       "      filter: drop-shadow(0px 1px 2px rgba(0, 0, 0, 0.3));\n",
       "      fill: #FFFFFF;\n",
       "    }\n",
       "  </style>\n",
       "\n",
       "      <script>\n",
       "        const buttonEl =\n",
       "          document.querySelector('#df-b70c4a10-83b6-4e12-8d8c-6b7ac440a052 button.colab-df-convert');\n",
       "        buttonEl.style.display =\n",
       "          google.colab.kernel.accessAllowed ? 'block' : 'none';\n",
       "\n",
       "        async function convertToInteractive(key) {\n",
       "          const element = document.querySelector('#df-b70c4a10-83b6-4e12-8d8c-6b7ac440a052');\n",
       "          const dataTable =\n",
       "            await google.colab.kernel.invokeFunction('convertToInteractive',\n",
       "                                                     [key], {});\n",
       "          if (!dataTable) return;\n",
       "\n",
       "          const docLinkHtml = 'Like what you see? Visit the ' +\n",
       "            '<a target=\"_blank\" href=https://colab.research.google.com/notebooks/data_table.ipynb>data table notebook</a>'\n",
       "            + ' to learn more about interactive tables.';\n",
       "          element.innerHTML = '';\n",
       "          dataTable['output_type'] = 'display_data';\n",
       "          await google.colab.output.renderOutput(dataTable, element);\n",
       "          const docLink = document.createElement('div');\n",
       "          docLink.innerHTML = docLinkHtml;\n",
       "          element.appendChild(docLink);\n",
       "        }\n",
       "      </script>\n",
       "    </div>\n",
       "  </div>\n",
       "  "
      ],
      "text/plain": [
       "    0      1         2        3       4      5        6      7       8     9   \\\n",
       "0  abm  agent  approach  dynamic  effect  model  network  paper  result  show   \n",
       "\n",
       "           10      11     12      13   14  \n",
       "0  simulation  social  study  system  use  "
      ]
     },
     "execution_count": 48,
     "metadata": {},
     "output_type": "execute_result"
    }
   ],
   "source": [
    "feature_names = cv.get_feature_names_out()\n",
    "pd.DataFrame(feature_names).T"
   ]
  },
  {
   "cell_type": "code",
   "execution_count": 49,
   "id": "1ac690e2",
   "metadata": {
    "id": "21167d35"
   },
   "outputs": [],
   "source": [
    "ordered_centroids = km_s.cluster_centers_.argsort()"
   ]
  },
  {
   "cell_type": "code",
   "execution_count": 50,
   "id": "42988eaf",
   "metadata": {
    "colab": {
     "base_uri": "https://localhost:8080/"
    },
    "id": "295d8497",
    "outputId": "a1f24b40-4cc0-4ef2-e81a-34159983c6db"
   },
   "outputs": [
    {
     "data": {
      "text/plain": [
       "array([[ 8,  1,  4, 12, 13, 14,  2,  6,  9,  7, 11,  0, 10,  5,  3],\n",
       "       [ 0,  1,  2,  3,  4,  5,  6,  7,  8,  9, 10, 11, 12, 13, 14],\n",
       "       [ 4,  3,  2,  9,  8, 12,  7,  6,  1, 14, 11, 10,  5,  0, 13],\n",
       "       [13, 14,  3, 12,  1,  2,  6,  8,  9, 11,  0,  7, 10,  4,  5],\n",
       "       [ 6,  4, 10,  3, 13,  9,  8,  7, 12,  1, 11,  2, 14,  5,  0],\n",
       "       [ 4,  9,  6, 12, 13,  3,  8,  7, 14, 11,  1, 10,  5,  0,  2],\n",
       "       [ 2, 13,  9,  7,  6, 14,  4, 12,  8,  3,  0, 10, 11,  5,  1],\n",
       "       [ 9,  2,  6,  8, 13,  4,  7,  1, 12,  3,  5,  0, 14, 10, 11],\n",
       "       [13,  7,  2, 12,  8,  3,  1,  9, 14, 10,  0,  4,  5, 11,  6],\n",
       "       [ 2,  4,  6,  3,  9, 11,  7, 13, 12,  8,  1, 14,  5,  0, 10],\n",
       "       [ 1,  2,  4, 13, 14, 10,  9,  7,  8, 12,  3,  6,  0,  5, 11],\n",
       "       [ 1,  4,  6, 11, 13,  2,  9,  7,  8, 14,  3,  0,  5, 10, 12],\n",
       "       [ 4,  2,  6,  1, 13,  0, 11,  9, 14,  7, 10, 12,  3,  5,  8],\n",
       "       [ 2,  6,  7,  1, 13, 11, 14,  5,  9,  8,  3, 10, 12,  0,  4],\n",
       "       [ 6,  3,  1,  9, 11,  4,  2, 13, 10,  8, 12,  7,  5,  0, 14],\n",
       "       [ 2,  3,  4,  6,  8, 10, 11, 13, 14,  5,  7, 12,  1,  9,  0],\n",
       "       [12,  6,  2,  3, 13,  8, 11,  9,  4,  1,  7,  0, 10, 14,  5]])"
      ]
     },
     "execution_count": 50,
     "metadata": {},
     "output_type": "execute_result"
    }
   ],
   "source": [
    "ordered_centroids"
   ]
  },
  {
   "cell_type": "code",
   "execution_count": 51,
   "id": "6dd385cd",
   "metadata": {
    "colab": {
     "base_uri": "https://localhost:8080/"
    },
    "id": "4fbecac4",
    "outputId": "8a7dfd80-304b-452a-bba7-1e383b4d537a"
   },
   "outputs": [
    {
     "name": "stdout",
     "output_type": "stream",
     "text": [
      "CLUSTER #0\n",
      "Key Features: ['result', 'agent', 'effect', 'study', 'system', 'use', 'approach', 'network', 'show', 'paper']\n",
      "Papers: ['Understanding Complex Social Dynamics'\n",
      " 'Spatial Dynamics of Pandemic Influenza in a Massive Artificial Society'\n",
      " 'Toward Multi-Level, Multi-Theoretical Model Portfolios for Scientific Enterprise Workforce Dynamics']\n",
      "--------------------------------------------------------------------------------\n",
      "CLUSTER #1\n",
      "Key Features: ['abm', 'agent', 'approach', 'dynamic', 'effect', 'model', 'network', 'paper', 'result', 'show']\n",
      "Papers: ['Rethinking the Tragedy of the Commons: The Integration of Socio-Psychological Dispositions'\n",
      " 'JAMSIM: a Microsimulation Modelling Policy Tool'\n",
      " 'Simulation-Based Definitions of Emergence']\n",
      "--------------------------------------------------------------------------------\n",
      "CLUSTER #2\n",
      "Key Features: ['effect', 'dynamic', 'approach', 'show', 'result', 'study', 'paper', 'network', 'agent', 'use']\n",
      "Papers: ['The Interplay Between Conformity and Anticonformity and its Polarizing Effect on Society'\n",
      " 'Social Reputation: a Mechanism for Flexible Self-Regulation of Multiagent Systems'\n",
      " 'Socionic Multi-Agent Systems Based on Reflexive Petri Nets and Theories of Social Self-Organisation']\n",
      "--------------------------------------------------------------------------------\n",
      "CLUSTER #3\n",
      "Key Features: ['system', 'use', 'dynamic', 'study', 'agent', 'approach', 'network', 'result', 'show', 'social']\n",
      "Papers: ['Seeking Equilibrium Leads to Chaos: Multiple Equilibria Regulation Model'\n",
      " 'An Agent Based Model of a Thinly Traded Land Market in an Urbanizing Region'\n",
      " 'Modelling Research Policy: Ex-Ante Evaluation of Complex Policy Instruments']\n",
      "--------------------------------------------------------------------------------\n",
      "CLUSTER #4\n",
      "Key Features: ['network', 'effect', 'simulation', 'dynamic', 'system', 'show', 'result', 'paper', 'study', 'agent']\n",
      "Papers: ['An Agent-Based Spatially Explicit Epidemiological Model in MASON'\n",
      " \"Sendero: An Extended, Agent-Based Implementation of Kauffman's NKCS Model\"\n",
      " 'What Do Agent-Based and Equation-Based Modelling Tell Us About Social Conventions:  The Clash Between ABM and EBM in a Congestion Game Framework']\n",
      "--------------------------------------------------------------------------------\n",
      "CLUSTER #5\n",
      "Key Features: ['effect', 'show', 'network', 'study', 'system', 'dynamic', 'result', 'paper', 'use', 'social']\n",
      "Papers: ['Simulating  the Impacts of Climate Variability and Change on Crop Varietal Diversity in Mali (West-Africa) Using Agent-Based Modeling Approach'\n",
      " 'Construction and Evaluation of Social Agents in Hybrid Settings: Approach and Experimental Results of the INKA Project'\n",
      " 'Infrastructure Network Design with a Multi-Model Approach: Comparing Geometric Graph Theory with an Agent-Based Implementation of an Ant Colony Optimization']\n",
      "--------------------------------------------------------------------------------\n",
      "CLUSTER #6\n",
      "Key Features: ['approach', 'system', 'show', 'paper', 'network', 'use', 'effect', 'study', 'result', 'dynamic']\n",
      "Papers: ['A Survey of Agent Platforms'\n",
      " 'Effects of the Interaction Between Ideological Affinity and Psychological Reaction of Agents on the Opinion Dynamics in a Relative Agreement Model'\n",
      " 'Obligation Norm Identification in Agent Societies']\n",
      "--------------------------------------------------------------------------------\n",
      "CLUSTER #7\n",
      "Key Features: ['show', 'approach', 'network', 'result', 'system', 'effect', 'paper', 'agent', 'study', 'dynamic']\n",
      "Papers: ['Caff&egrave; Nero: the Evaluation of Social Simulation'\n",
      " 'A Social Process in Science and Its Content in a Simulation Program'\n",
      " 'MAIA: a Framework for Developing Agent-Based Social Simulations']\n",
      "--------------------------------------------------------------------------------\n",
      "CLUSTER #8\n",
      "Key Features: ['system', 'paper', 'approach', 'study', 'result', 'dynamic', 'agent', 'show', 'use', 'simulation']\n",
      "Papers: ['Influence of Local Information on Social Simulations in Small-World Network Models'\n",
      " 'How Can Social Networks Ever   Become Complex? Modelling the Emergence of Complex Networks from   Local Social Exchanges'\n",
      " \"A Double-Layer Network and the Contagion Mechanism of China's Financial Systemic Risk\"]\n",
      "--------------------------------------------------------------------------------\n",
      "CLUSTER #9\n",
      "Key Features: ['approach', 'effect', 'network', 'dynamic', 'show', 'social', 'paper', 'system', 'study', 'result']\n",
      "Papers: ['Flocking Behaviour: Agent-Based Simulation and Hierarchical Leadership'\n",
      " 'Cellular-Automata Based Qualitative Simulation  for Nonprofit Group Behavior'\n",
      " 'Micro- and Macro-Level Validation in Agent-Based Simulation:   Reproduction of Human-Like Behaviors and Thinking   in a Sequential Bargaining Game']\n",
      "--------------------------------------------------------------------------------\n",
      "CLUSTER #10\n",
      "Key Features: ['agent', 'approach', 'effect', 'system', 'use', 'simulation', 'show', 'paper', 'result', 'study']\n",
      "Papers: ['ICTs, Social Connectivity, and Collective Action: A Cultural-Political Perspective'\n",
      " 'Friendships and Social Networks in an Individual-Based Model of Primate Social Behaviour'\n",
      " 'Emergence of Small-World Networks in an Overlapping-Generations Model of Social Dynamics, Trust and Economic Performance']\n",
      "--------------------------------------------------------------------------------\n",
      "CLUSTER #11\n",
      "Key Features: ['agent', 'effect', 'network', 'social', 'system', 'approach', 'show', 'paper', 'result', 'use']\n",
      "Papers: ['When Does a Newcomer Contribute to a Better Performance?  a Multi-Agent Study on Self-Organising Processes of Task Allocation'\n",
      " 'Studying Organisational Topology with Simple Computational Models'\n",
      " 'A Virtual Laboratory for the Study of History and Cultural Dynamics']\n",
      "--------------------------------------------------------------------------------\n",
      "CLUSTER #12\n",
      "Key Features: ['effect', 'approach', 'network', 'agent', 'system', 'abm', 'social', 'show', 'use', 'paper']\n",
      "Papers: ['Comparison of Eurovision Song Contest Simulation with Actual Results Reveals Shifting Patterns of Collusive Voting Alliances.'\n",
      " 'Problem Solving: When Groups Perform Better Than Teammates'\n",
      " 'The Emergence of Symbiotic Groups Resulting from Skill-Differentiation and Tags']\n",
      "--------------------------------------------------------------------------------\n",
      "CLUSTER #13\n",
      "Key Features: ['approach', 'network', 'paper', 'agent', 'system', 'social', 'use', 'model', 'show', 'result']\n",
      "Papers: ['On the Effects of Skill Upgrading in the Presence of Spatial Labor Market Frictions: An Agent-Based Analysis of Spatial Policy Design'\n",
      " 'Information Feedback and Mass Media Effects in Cultural Dynamics'\n",
      " 'Hard Work, Risk-Taking, and Diversity in a Model of Collective Problem Solving']\n",
      "--------------------------------------------------------------------------------\n",
      "CLUSTER #14\n",
      "Key Features: ['network', 'dynamic', 'agent', 'show', 'social', 'effect', 'approach', 'system', 'simulation', 'result']\n",
      "Papers: ['Simulating Organizational Decision-Making Using a Cognitively Realistic Agent Model'\n",
      " 'Targeting <i>Your</i> Preferences: Modelling Micro-Targeting for an Increasingly Diverse Electorate'\n",
      " 'An &quot;All Hands&quot; Call to the Social Science Community:  Establishing a Community Framework for Complexity Modeling Using Agent Based Models and Cyberinfrastructure']\n",
      "--------------------------------------------------------------------------------\n",
      "CLUSTER #15\n",
      "Key Features: ['approach', 'dynamic', 'effect', 'network', 'result', 'simulation', 'social', 'system', 'use', 'model']\n",
      "Papers: ['VIR-POX: An Agent-Based Analysis of Smallpox Preparedness and Response Policy'\n",
      " 'Agent-Based Modelling: The Next 15 Years'\n",
      " \"A Spatial Agent-Based Model of N-Person Prisoner's Dilemma Cooperation in a Socio-Geographic Community\"]\n",
      "--------------------------------------------------------------------------------\n",
      "CLUSTER #16\n",
      "Key Features: ['study', 'network', 'approach', 'dynamic', 'system', 'result', 'social', 'show', 'effect', 'agent']\n",
      "Papers: ['An Empirically Grounded Model of Green Electricity Adoption in Germany: Calibration, Validation and Insights into Patterns of Diffusion'\n",
      " 'A Further Step Towards Participatory Modelling.  Fostering Stakeholder Involvement in Designing Models by Using Executable UML'\n",
      " 'The Blessing of Sexuality: Evolution of Altruism with Mating Preference']\n",
      "--------------------------------------------------------------------------------\n"
     ]
    }
   ],
   "source": [
    "topn_features = 10\n",
    "for cluster_num in range(NUM_CLUSTERS):\n",
    "    key_features = [feature_names[index]\n",
    "                       for index in ordered_centroids[cluster_num, : topn_features]]\n",
    "    papers = paper_clusters[paper_clusters['KMeans_Cluster'] == cluster_num]['Title'].values\n",
    "    print('CLUSTER #' + str(cluster_num))\n",
    "    print('Key Features:', key_features)\n",
    "    print('Papers:', papers)\n",
    "    print('-'*80)"
   ]
  },
  {
   "cell_type": "code",
   "execution_count": 52,
   "id": "8f7f679b",
   "metadata": {
    "id": "c95ed847"
   },
   "outputs": [],
   "source": [
    "pd.options.display.max_colwidth = 150"
   ]
  },
  {
   "cell_type": "code",
   "execution_count": 53,
   "id": "f566904c",
   "metadata": {
    "id": "5e8aaa4c"
   },
   "outputs": [],
   "source": [
    "# from google.colab import files\n",
    "# df.to_csv('output.csv', encoding = 'utf-8-sig') \n",
    "# files.download('output.csv')"
   ]
  }
 ],
 "metadata": {
  "colab": {
   "collapsed_sections": [
    "277a7a08"
   ],
   "name": "Paper Recommender - KMeans.ipynb",
   "provenance": []
  },
  "kernelspec": {
   "display_name": "nlp",
   "language": "python",
   "name": "nlp"
  },
  "language_info": {
   "codemirror_mode": {
    "name": "ipython",
    "version": 3
   },
   "file_extension": ".py",
   "mimetype": "text/x-python",
   "name": "python",
   "nbconvert_exporter": "python",
   "pygments_lexer": "ipython3",
   "version": "3.9.7"
  }
 },
 "nbformat": 4,
 "nbformat_minor": 5
}
